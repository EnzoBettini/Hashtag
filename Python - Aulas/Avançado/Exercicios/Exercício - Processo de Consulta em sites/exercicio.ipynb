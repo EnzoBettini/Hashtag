{
 "cells": [
  {
   "cell_type": "code",
   "execution_count": 20,
   "id": "0274d423",
   "metadata": {},
   "outputs": [],
   "source": [
    "from selenium import webdriver\n",
    "from selenium.webdriver.common.by import By\n",
    "from selenium.webdriver.support.wait import WebDriverWait\n",
    "from selenium.webdriver.support import expected_conditions as EC\n",
    "from selenium.webdriver.common.alert import Alert\n",
    "from selenium.webdriver import ActionChains\n",
    "import pandas as pd\n",
    "import time\n",
    "\n",
    "df = pd.read_excel('Processos.xlsx')\n",
    "\n",
    "driver = webdriver.Chrome()\n",
    "driver.maximize_window()\n",
    "\n",
    "driver.get(r\"C:\\Users\\enzo.bettini\\Documents\\Hashtag\\Python - Aulas\\Avançado\\Exercicios\\Exercício - Processo de Consulta em sites\\index.html\")\n",
    "\n",
    "for linha in df.index:\n",
    "    elemento = driver.find_element(By.CLASS_NAME, 'dropdown-menu')\n",
    "    ActionChains(driver).move_to_element(elemento).perform()\n",
    "\n",
    "    cidade = df.loc[linha, 'Cidade']\n",
    "    driver.find_element(By.PARTIAL_LINK_TEXT, cidade).click()\n",
    "\n",
    "    driver.switch_to.window(driver.window_handles[1])\n",
    "    driver.refresh()\n",
    "    WebDriverWait(driver, 10).until(EC.presence_of_element_located((By.ID, 'nome')))\n",
    "\n",
    "    driver.find_element(By.ID, 'nome').send_keys(df.loc[linha, 'Nome'])\n",
    "    driver.find_element(By.ID, 'advogado').send_keys(df.loc[linha, 'Advogado'])\n",
    "    driver.find_element(By.ID, 'numero').send_keys(df.loc[linha, 'Processo'])\n",
    "    driver.find_element(By.CLASS_NAME, 'registerbtn').click()\n",
    "\n",
    "    alerta = Alert(driver)\n",
    "    alerta.accept()\n",
    "\n",
    "    alerta = WebDriverWait(driver, 20).until(EC.alert_is_present())\n",
    "    alerta.accept()\n",
    "    driver.switch_to.window(driver.window_handles[0])"
   ]
  }
 ],
 "metadata": {
  "kernelspec": {
   "display_name": "Python 3",
   "language": "python",
   "name": "python3"
  },
  "language_info": {
   "codemirror_mode": {
    "name": "ipython",
    "version": 3
   },
   "file_extension": ".py",
   "mimetype": "text/x-python",
   "name": "python",
   "nbconvert_exporter": "python",
   "pygments_lexer": "ipython3",
   "version": "3.12.10"
  }
 },
 "nbformat": 4,
 "nbformat_minor": 5
}
