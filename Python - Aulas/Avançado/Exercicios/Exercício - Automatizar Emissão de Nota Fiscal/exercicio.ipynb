{
 "cells": [
  {
   "cell_type": "code",
   "execution_count": 48,
   "id": "b7fbb4f1",
   "metadata": {},
   "outputs": [],
   "source": [
    "from selenium import webdriver\n",
    "from selenium.webdriver.common.by import By\n",
    "from selenium.webdriver.common.keys import Keys\n",
    "import pandas as pd\n",
    "import time\n",
    "\n",
    "options = webdriver.ChromeOptions()\n",
    "options.add_experimental_option(\"prefs\", {\n",
    "  \"download.default_directory\": r\"C:\\Users\\enzo.bettini\\Documents\\Hashtag\\Python - Aulas\\Avançado\\Exercicios\\Exercício - Automatizar Emissão de Nota Fiscal\\notas\",\n",
    "  \"download.prompt_for_download\": False,\n",
    "  \"download.directory_upgrade\": True,\n",
    "  \"safebrowsing.enabled\": True\n",
    "})\n",
    "\n",
    "driver = webdriver.Chrome(options=options)\n",
    "\n",
    "driver.maximize_window()\n",
    "\n",
    "driver.get(r\"C:\\Users\\enzo.bettini\\Documents\\Hashtag\\Python - Aulas\\Avançado\\Exercicios\\Exercício - Automatizar Emissão de Nota Fiscal\\login.html\")"
   ]
  },
  {
   "cell_type": "code",
   "execution_count": 49,
   "id": "43154d88",
   "metadata": {},
   "outputs": [],
   "source": [
    "driver.find_element(By.XPATH, '/html/body/div/form/input[1]').send_keys('1234')\n",
    "driver.find_element(By.XPATH, '/html/body/div/form/input[2]').send_keys('1234')\n",
    "driver.find_element(By.XPATH, '/html/body/div/form/input[2]').send_keys(Keys.ENTER)"
   ]
  },
  {
   "cell_type": "code",
   "execution_count": 50,
   "id": "4ed1c59d",
   "metadata": {},
   "outputs": [],
   "source": [
    "df = pd.read_excel('NotasEmitir.xlsx')\n",
    "for linha in range(3): #df.index\n",
    "    driver.find_element(By.NAME, 'nome').send_keys(df.loc[linha, 'Cliente'])\n",
    "\n",
    "    driver.find_element(By.NAME, 'endereco').send_keys(df.loc[linha, 'Endereço'])\n",
    "\n",
    "    driver.find_element(By.NAME, 'bairro').send_keys(df.loc[linha, 'Bairro'])\n",
    "\n",
    "    driver.find_element(By.NAME, 'municipio').send_keys(df.loc[linha, 'Endereço'])\n",
    "\n",
    "    driver.find_element(By.NAME, 'cep').send_keys(int(df.loc[linha, 'CEP']))\n",
    "\n",
    "    driver.find_element(By.NAME, 'uf').send_keys(df.loc[linha, 'UF'])\n",
    "\n",
    "    driver.find_element(By.NAME, 'cnpj').send_keys(int(df.loc[linha, 'CPF/CNPJ']))\n",
    "\n",
    "    driver.find_element(By.NAME, 'inscricao').send_keys(int(df.loc[linha, 'Inscricao Estadual']))\n",
    "\n",
    "    driver.find_element(By.NAME, 'descricao').send_keys(df.loc[linha, 'Descrição'])\n",
    "\n",
    "    driver.find_element(By.NAME, 'quantidade').send_keys(int(df.loc[linha, 'Quantidade']))\n",
    "\n",
    "    driver.find_element(By.NAME, 'valor_unitario').send_keys(float(df.loc[linha, 'Valor Unitario']))\n",
    "\n",
    "    driver.find_element(By.NAME, 'total').send_keys(float(df.loc[linha, 'Valor Total']))\n",
    "\n",
    "    driver.find_element(By.CLASS_NAME, 'registerbtn').click()\n",
    "\n",
    "    driver.refresh()\n",
    "\n",
    "time.sleep(1)\n",
    "driver.quit()"
   ]
  }
 ],
 "metadata": {
  "kernelspec": {
   "display_name": "Python 3",
   "language": "python",
   "name": "python3"
  },
  "language_info": {
   "codemirror_mode": {
    "name": "ipython",
    "version": 3
   },
   "file_extension": ".py",
   "mimetype": "text/x-python",
   "name": "python",
   "nbconvert_exporter": "python",
   "pygments_lexer": "ipython3",
   "version": "3.12.10"
  }
 },
 "nbformat": 4,
 "nbformat_minor": 5
}
