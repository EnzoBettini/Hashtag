{
 "cells": [
  {
   "cell_type": "code",
   "execution_count": null,
   "id": "82c228d0",
   "metadata": {},
   "outputs": [],
   "source": [
    "import requests\n",
    "from bs4 import BeautifulSoup\n",
    "\n",
    "# 1. Fazer a requisição HTTP para obter o conteúdo da página\n",
    "url = 'https://www.google.com.br/?hl=pt-BR'\n",
    "response = requests.get(url)\n",
    "\n",
    "# Verificar se a requisição foi bem-sucedida (código de status 200)\n",
    "if response.status_code == 200:\n",
    "    # 2. Parsear o conteúdo HTML com BeautifulSoup\n",
    "    site = BeautifulSoup(response.text, 'html.parser')\n",
    "\n",
    "    # Agora você pode trabalhar com o objeto 'site' para extrair informações\n",
    "    print(site.prettify()) # Para imprimir o HTML formatado e legível\n",
    "else:\n",
    "    print(f\"Erro ao acessar a página: {response.status_code}\")"
   ]
  }
 ],
 "metadata": {
  "kernelspec": {
   "display_name": "Python 3",
   "language": "python",
   "name": "python3"
  },
  "language_info": {
   "codemirror_mode": {
    "name": "ipython",
    "version": 3
   },
   "file_extension": ".py",
   "mimetype": "text/x-python",
   "name": "python",
   "nbconvert_exporter": "python",
   "pygments_lexer": "ipython3",
   "version": "3.12.10"
  }
 },
 "nbformat": 4,
 "nbformat_minor": 5
}
