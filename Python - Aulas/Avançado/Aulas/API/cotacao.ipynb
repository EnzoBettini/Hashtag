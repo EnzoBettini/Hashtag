{
 "cells": [
  {
   "cell_type": "code",
   "execution_count": null,
   "id": "9c5192c0",
   "metadata": {},
   "outputs": [],
   "source": [
    "import requests\n",
    "import json\n",
    "\n",
    "cotacoes = requests.get('https://economia.awesomeapi.com.br/json/all')\n",
    "cotacao_json = cotacoes.json()\n",
    "print(f'Dolar: R$ {float(cotacao_json['USD']['bid']):.2f}')\n",
    "print(f'BTC: R$ {float(cotacao_json['BTC']['bid']):.2f}')"
   ]
  },
  {
   "cell_type": "code",
   "execution_count": null,
   "id": "4944e0ee",
   "metadata": {},
   "outputs": [],
   "source": [
    "import requests\n",
    "import json\n",
    "from datetime import datetime\n",
    "\n",
    "cotacoes = requests.get('https://economia.awesomeapi.com.br/json/daily/EUR-BRL/30?start_date=20250620&end_date=20250716')\n",
    "cotacao_json = cotacoes.json()\n",
    "for cotacoes_individuais in cotacao_json:\n",
    "    print(f'Dia --- {datetime.fromtimestamp(int(cotacoes_individuais['timestamp'])):%d/%m/%Y} --- Euro: R$ {float(cotacoes_individuais['bid']):.2f}')"
   ]
  },
  {
   "cell_type": "code",
   "execution_count": null,
   "id": "536b334d",
   "metadata": {},
   "outputs": [],
   "source": [
    "import requests\n",
    "import json\n",
    "from datetime import datetime\n",
    "\n",
    "cotacoes = requests.get('https://economia.awesomeapi.com.br/json/daily/BTC-BRL/150?start_date=20250120&end_date=20250716')\n",
    "cotacao_json = cotacoes.json()\n",
    "for cotacoes_individuais in cotacao_json:\n",
    "    print(f'Dia --- {datetime.fromtimestamp(int(cotacoes_individuais['timestamp'])):%m} --- Euro: R$ {float(cotacoes_individuais['bid']):.2f}')\n"
   ]
  },
  {
   "cell_type": "code",
   "execution_count": null,
   "id": "24f6abb2",
   "metadata": {},
   "outputs": [],
   "source": [
    "import matplotlib.pyplot as plt\n",
    "\n",
    "lista_valores = [float(item['bid']) for item in cotacao_json]\n",
    "print(lista_valores)\n",
    "plt.figure(figsize=(15, 5))\n",
    "plt.plot(lista_valores)"
   ]
  }
 ],
 "metadata": {
  "kernelspec": {
   "display_name": "Python 3",
   "language": "python",
   "name": "python3"
  },
  "language_info": {
   "codemirror_mode": {
    "name": "ipython",
    "version": 3
   },
   "file_extension": ".py",
   "mimetype": "text/x-python",
   "name": "python",
   "nbconvert_exporter": "python",
   "pygments_lexer": "ipython3",
   "version": "3.12.10"
  }
 },
 "nbformat": 4,
 "nbformat_minor": 5
}
