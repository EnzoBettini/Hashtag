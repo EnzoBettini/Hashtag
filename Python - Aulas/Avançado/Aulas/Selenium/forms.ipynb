{
 "cells": [
  {
   "cell_type": "code",
   "execution_count": null,
   "id": "2db000f9",
   "metadata": {},
   "outputs": [],
   "source": [
    "from selenium import webdriver\n",
    "from selenium.webdriver.common.by import By\n",
    "from selenium.webdriver.support.wait import WebDriverWait\n",
    "from selenium.webdriver.support import expected_conditions as EC\n",
    "import time\n",
    "\n",
    "driver = webdriver.Chrome()\n",
    "driver.maximize_window()\n",
    "\n",
    "driver.get(\"https://www.456bereastreet.com/lab/html5-input-types/\")\n",
    "time.sleep(2)\n",
    "\n",
    "driver.find_element(By.XPATH, '//*[@id=\"wrap\"]/form/div[15]/input').click()"
   ]
  },
  {
   "cell_type": "code",
   "execution_count": null,
   "id": "f99d6655",
   "metadata": {},
   "outputs": [],
   "source": [
    "#Checkbox (nao tem no teste)\n",
    "#driver.find_element(By.XPATH, '').is_selected() -> verifica se esta selecionado\n",
    "#pode ser clicado (retorna true or false)"
   ]
  },
  {
   "cell_type": "code",
   "execution_count": null,
   "id": "0cee1ae3",
   "metadata": {},
   "outputs": [],
   "source": [
    "driver.find_element(By.XPATH, '//*[@id=\"type-color\"]').get_attribute('value')\n",
    "driver.find_element(By.XPATH, '//*[@id=\"type-color\"]').send_keys('#ABCDEF')"
   ]
  },
  {
   "cell_type": "code",
   "execution_count": null,
   "id": "0b6b89ea",
   "metadata": {},
   "outputs": [],
   "source": [
    "driver.find_element(By.XPATH, '//*[@id=\"type-date\"]').send_keys('28/10/2002')"
   ]
  },
  {
   "cell_type": "code",
   "execution_count": null,
   "id": "d8dd4ee3",
   "metadata": {},
   "outputs": [],
   "source": [
    "driver.find_element(By.XPATH, '//*[@id=\"type-week\"]').send_keys('27,2025')\n",
    "driver.find_element(By.XPATH, '//*[@id=\"type-week\"]').get_attribute('value')"
   ]
  },
  {
   "cell_type": "code",
   "execution_count": null,
   "id": "9895d94f",
   "metadata": {},
   "outputs": [],
   "source": [
    "value = \"2002-10-28T11:11\"\n",
    "\n",
    "element = driver.find_element(By.XPATH, '//*[@id=\"type-datetime-local\"]')\n",
    "driver.execute_script(\"arguments[0].value = arguments[1];\", element, value)"
   ]
  },
  {
   "cell_type": "code",
   "execution_count": null,
   "id": "f0e0d14a",
   "metadata": {},
   "outputs": [],
   "source": [
    "from selenium.webdriver.common.keys import Keys\n",
    "driver.find_element(By.XPATH, '//*[@id=\"type-datetime-local\"]').send_keys('28/10/2002', Keys.TAB, '22:00')"
   ]
  },
  {
   "cell_type": "code",
   "execution_count": null,
   "id": "0d4c708b",
   "metadata": {},
   "outputs": [],
   "source": [
    "#Upload de arquivo\n",
    "#driver.find_element(By.XPATH, '').send_keys(fr'C:\\\\...\\...\\')"
   ]
  },
  {
   "cell_type": "code",
   "execution_count": null,
   "id": "ce62bdf9",
   "metadata": {},
   "outputs": [],
   "source": [
    "from selenium import webdriver\n",
    "from selenium.webdriver.common.by import By\n",
    "from selenium.webdriver.support.wait import WebDriverWait\n",
    "from selenium.webdriver.support import expected_conditions as EC\n",
    "import time\n",
    "\n",
    "driver = webdriver.Chrome()\n",
    "driver.maximize_window()\n",
    "\n",
    "driver.get('https://a11ysupport.io/tests/html/html/select.html')\n",
    "time.sleep(3)"
   ]
  },
  {
   "cell_type": "code",
   "execution_count": null,
   "id": "54da542f",
   "metadata": {},
   "outputs": [],
   "source": [
    "driver.find_element(By.XPATH, '//*[@id=\"cars\"]').click()"
   ]
  }
 ],
 "metadata": {
  "kernelspec": {
   "display_name": "Python 3",
   "language": "python",
   "name": "python3"
  },
  "language_info": {
   "codemirror_mode": {
    "name": "ipython",
    "version": 3
   },
   "file_extension": ".py",
   "mimetype": "text/x-python",
   "name": "python",
   "nbconvert_exporter": "python",
   "pygments_lexer": "ipython3",
   "version": "3.12.10"
  }
 },
 "nbformat": 4,
 "nbformat_minor": 5
}
