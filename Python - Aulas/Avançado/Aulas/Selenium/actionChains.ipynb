{
 "cells": [
  {
   "cell_type": "code",
   "execution_count": null,
   "id": "99362fce",
   "metadata": {},
   "outputs": [],
   "source": [
    "from selenium.webdriver import ActionChains\n",
    "\n",
    "ActionChains(driver).move_to_element('QUAL ELEMENTO?').perform() #casos de hover p aparecer algo"
   ]
  }
 ],
 "metadata": {
  "language_info": {
   "name": "python"
  }
 },
 "nbformat": 4,
 "nbformat_minor": 5
}
