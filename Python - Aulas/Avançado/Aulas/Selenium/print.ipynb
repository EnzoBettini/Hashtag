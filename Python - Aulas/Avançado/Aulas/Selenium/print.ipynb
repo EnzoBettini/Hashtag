{
 "cells": [
  {
   "cell_type": "code",
   "execution_count": null,
   "id": "e198b5f9",
   "metadata": {},
   "outputs": [],
   "source": [
    "from selenium import webdriver\n",
    "from selenium.webdriver.common.by import By\n",
    "from selenium.webdriver.support.wait import WebDriverWait\n",
    "from selenium.webdriver.support import expected_conditions as EC\n",
    "from selenium.webdriver.common.alert import Alert\n",
    "from selenium.webdriver import ActionChains\n",
    "import pandas as pd\n",
    "import time\n",
    "\n",
    "driver = webdriver.Chrome()\n",
    "driver.maximize_window()\n",
    "\n",
    "driver.get('https://www.google.com.br/?hl=pt-BR')\n",
    "\n",
    "driver.save_screenshot('print.png')"
   ]
  },
  {
   "cell_type": "code",
   "execution_count": null,
   "id": "912595d4",
   "metadata": {},
   "outputs": [],
   "source": [
    "from PIL import Image\n",
    "\n",
    "elemento_pra_print = driver.find_element(By.ID, 'ID')\n",
    "posicao = elemento_pra_print.location\n",
    "tamanho = elemento_pra_print.size\n",
    "\n",
    "x_inicial = posicao['x']\n",
    "y_inicial = posicao['y']\n",
    "x_final = x_inicial + tamanho['width']\n",
    "y_final = y_inicial + tamanho['height']\n",
    "imagem = Image.open('print.png')\n",
    "\n",
    "imagem = imagem.crop((x_inicial, y_inicial, x_final, y_final))\n",
    "imagem.save()"
   ]
  }
 ],
 "metadata": {
  "kernelspec": {
   "display_name": "Python 3",
   "language": "python",
   "name": "python3"
  },
  "language_info": {
   "codemirror_mode": {
    "name": "ipython",
    "version": 3
   },
   "file_extension": ".py",
   "mimetype": "text/x-python",
   "name": "python",
   "nbconvert_exporter": "python",
   "pygments_lexer": "ipython3",
   "version": "3.12.10"
  }
 },
 "nbformat": 4,
 "nbformat_minor": 5
}
