{
 "cells": [
  {
   "cell_type": "code",
   "execution_count": null,
   "id": "5db84420",
   "metadata": {},
   "outputs": [],
   "source": [
    "#Modulo 29 aula 35\n",
    "\n",
    "from webdriver_manager.chrome import ChromeDriverManager\n",
    "from selenium import webdriver\n",
    "from selenium.webdriver.chrome.service import Service\n",
    "from selenium.webdriver.common.by import By\n",
    "from anticaptchaofficial.recaptchav2proxyless import *\n",
    "import time\n",
    "from chave import chave_api\n",
    "\n",
    "navegador = webdriver.Chrome(service=Service(ChromeDriverManager().install()))\n",
    "link = \"https://google.com/recaptcha/api2/demo\"\n",
    "navegador.get(link)\n",
    "\n",
    "chave_captcha = navegador.find_element(By.ID, 'recaptcha-demo').get_attribute('data-sitekey')\n",
    "\n",
    "solver = recaptchaV2Proxyless()\n",
    "solver.set_verbose(1)\n",
    "solver.set_key(chave_api)\n",
    "solver.set_website_url(link)\n",
    "solver.set_website_key(chave_captcha)\n",
    "\n",
    "resposta = solver.solve_and_return_solution()\n",
    "\n",
    "if resposta != 0:\n",
    "    print(resposta)\n",
    "    # preencher o campo do token do captcha\n",
    "    # g-recaptcha-response\n",
    "    navegador.execute_script(f\"document.getElementById('g-recaptcha-response').innerHTML = '{resposta}'\")\n",
    "    navegador.find_element(By.ID, 'recaptcha-demo-submit').click()\n",
    "else:\n",
    "    print(solver.err_string)\n",
    "\n",
    "time.sleep(100)"
   ]
  }
 ],
 "metadata": {
  "language_info": {
   "name": "python"
  }
 },
 "nbformat": 4,
 "nbformat_minor": 5
}
