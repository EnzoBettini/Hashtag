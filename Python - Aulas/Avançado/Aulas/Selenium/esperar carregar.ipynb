{
 "cells": [
  {
   "cell_type": "code",
   "execution_count": null,
   "id": "0101dbe5",
   "metadata": {},
   "outputs": [],
   "source": [
    "from selenium import webdriver\n",
    "from selenium.webdriver.common.by import By\n",
    "from selenium.webdriver.support.wait import WebDriverWait\n",
    "from selenium.webdriver.support import expected_conditions as EC\n",
    "from selenium.webdriver.common.alert import Alert ######\n",
    "import time\n",
    "\n",
    "driver = webdriver.Chrome()\n",
    "driver.maximize_window()\n",
    "\n",
    "driver.get(\"https://tgentil.github.io/teste-pop-up/#contato\")\n",
    "\n",
    "driver.find_element(By.ID, 'teste-link').click()\n",
    "time.sleep(1)\n",
    "\n",
    "while len(driver.find_element(By.CLASS_NAME, 'popup-close')) < 1:\n",
    "    time.sleep(1)\n",
    "driver.find_element(By.CLASS_NAME, 'popup-close').click()\n",
    "\n",
    "elemento = WebDriverWait(driver, 20).until(EC.presence_of_element_located((By.CLASS_NAME, 'popup-close')))\n",
    "time.sleep(0.5)\n",
    "elemento.click()"
   ]
  }
 ],
 "metadata": {
  "kernelspec": {
   "display_name": "Python 3",
   "language": "python",
   "name": "python3"
  },
  "language_info": {
   "codemirror_mode": {
    "name": "ipython",
    "version": 3
   },
   "file_extension": ".py",
   "mimetype": "text/x-python",
   "name": "python",
   "nbconvert_exporter": "python",
   "pygments_lexer": "ipython3",
   "version": "3.12.10"
  }
 },
 "nbformat": 4,
 "nbformat_minor": 5
}
