{
 "cells": [
  {
   "cell_type": "code",
   "execution_count": null,
   "id": "b68c1fee",
   "metadata": {},
   "outputs": [],
   "source": [
    "driver.execute_script('window.scroll(x, y)')"
   ]
  }
 ],
 "metadata": {
  "language_info": {
   "name": "python"
  }
 },
 "nbformat": 4,
 "nbformat_minor": 5
}
