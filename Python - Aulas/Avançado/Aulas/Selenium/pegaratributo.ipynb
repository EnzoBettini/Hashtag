{
 "cells": [
  {
   "cell_type": "code",
   "execution_count": 1,
   "id": "bc39702f",
   "metadata": {},
   "outputs": [
    {
     "data": {
      "text/plain": [
       "'https://www.cooperbank.com.br/site/pagina-pix'"
      ]
     },
     "execution_count": 1,
     "metadata": {},
     "output_type": "execute_result"
    }
   ],
   "source": [
    "from selenium import webdriver\n",
    "from selenium.webdriver.common.by import By\n",
    "from selenium.webdriver.support.wait import WebDriverWait\n",
    "from selenium.webdriver.support import expected_conditions as EC\n",
    "import time\n",
    "\n",
    "driver = webdriver.Chrome()\n",
    "driver.maximize_window()\n",
    "\n",
    "driver.get(\"https://www.cooperbank.com.br/site/conta-digital\")\n",
    "time.sleep(5)\n",
    "\n",
    "driver.find_element(By.XPATH, '//*[@id=\"fundo-pix\"]/div/div[2]/a').get_attribute('href')\n"
   ]
  },
  {
   "cell_type": "markdown",
   "id": "c8d783cc",
   "metadata": {},
   "source": [
    "Com certeza! Aqui está um resumo dos localizadores, ações e informações comuns do Selenium em formato de tabela:\n",
    "\n",
    "---\n",
    "\n",
    "## Elementos Comuns do Selenium WebDriver\n",
    "\n",
    "| Categoria      | Tipo/Método                | Descrição                                                              | Exemplo de Uso (Python)                                                                           |\n",
    "| :------------- | :------------------------- | :--------------------------------------------------------------------- | :------------------------------------------------------------------------------------------------ |\n",
    "| **Localizadores** | `By.ID`                    | Encontra um elemento pelo atributo `id`.                               | `driver.find_element(By.ID, 'nomeUsuario')`                                                       |\n",
    "|                | `By.NAME`                  | Encontra um elemento pelo atributo `name`.                             | `driver.find_element(By.NAME, 'senha')`                                                           |\n",
    "|                | `By.CLASS_NAME`            | Encontra um elemento pela classe CSS.                                  | `driver.find_element(By.CLASS_NAME, 'botaoPrimario')`                                             |\n",
    "|                | `By.TAG_NAME`              | Encontra um elemento pela tag HTML (ex: `div`, `a`).                   | `driver.find_element(By.TAG_NAME, 'h1')`                                                          |\n",
    "|                | `By.LINK_TEXT`             | Encontra um link pelo texto **exato** visível.                         | `driver.find_element(By.LINK_TEXT, 'Clique aqui')`                                                |\n",
    "|                | `By.PARTIAL_LINK_TEXT`     | Encontra um link pelo texto **parcial** visível.                       | `driver.find_element(By.PARTIAL_LINK_TEXT, 'Clique')`                                             |\n",
    "|                | `By.CSS_SELECTOR`          | Encontra elementos usando seletores CSS.                               | `driver.find_element(By.CSS_SELECTOR, 'input[type=\"submit\"].btn-success')`                       |\n",
    "|                | `By.XPATH`                 | Encontra elementos através de um caminho na estrutura XML/HTML.        | `driver.find_element(By.XPATH, '//input[@id=\"campoEmail\"]')`                                      |\n",
    "| **Ações** | `.click()`                 | Clica no elemento.                                                     | `elemento.click()`                                                                                |\n",
    "|                | `.send_keys('texto')`      | Digita texto em campos de entrada.                                     | `campo_texto.send_keys('meu_texto')`                                                              |\n",
    "|                | `.clear()`                 | Limpa o conteúdo de um campo de texto.                                 | `campo_texto.clear()`                                                                             |\n",
    "|                | `.submit()`                | Envia um formulário.                                                   | `formulario.submit()`                                                                             |\n",
    "| **Informações** | `.text`                    | Retorna o texto visível de um elemento.                                | `texto_elemento = elemento.text`                                                                  |\n",
    "|                | `.get_attribute('attr')`   | Retorna o valor de um atributo do elemento (ex: `href`, `value`).      | `valor_atributo = elemento.get_attribute('href')`                                                 |\n",
    "|                | `.is_displayed()`          | Verifica se o elemento está visível (`True`/`False`).                  | `visivel = elemento.is_displayed()`                                                               |\n",
    "|                | `.is_enabled()`            | Verifica se o elemento está habilitado para interação (`True`/`False`).| `habilitado = elemento.is_enabled()`                                                              |\n",
    "|                | `.is_selected()`           | Verifica se o elemento (checkbox/radio) está selecionado (`True`/`False`).| `selecionado = elemento.is_selected()`                                                            |\n",
    "|                | `.tag_name`                | Retorna o nome da tag HTML do elemento.                                | `tag = elemento.tag_name`                                                                         |\n",
    "\n",
    "---\n",
    "\n",
    "Espero que esta tabela ajude a visualizar e entender de forma mais clara os principais recursos do Selenium!"
   ]
  }
 ],
 "metadata": {
  "kernelspec": {
   "display_name": "Python 3",
   "language": "python",
   "name": "python3"
  },
  "language_info": {
   "codemirror_mode": {
    "name": "ipython",
    "version": 3
   },
   "file_extension": ".py",
   "mimetype": "text/x-python",
   "name": "python",
   "nbconvert_exporter": "python",
   "pygments_lexer": "ipython3",
   "version": "3.12.10"
  }
 },
 "nbformat": 4,
 "nbformat_minor": 5
}
