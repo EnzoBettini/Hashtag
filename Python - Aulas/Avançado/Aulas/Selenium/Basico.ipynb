{
 "cells": [
  {
   "cell_type": "code",
   "execution_count": null,
   "id": "93006048",
   "metadata": {},
   "outputs": [],
   "source": [
    "from selenium import webdriver\n",
    "from selenium.webdriver.common.by import By\n",
    "from selenium.webdriver.support.wait import WebDriverWait\n",
    "from selenium.webdriver.support import expected_conditions as EC\n",
    "import time\n",
    "\n",
    "driver = webdriver.Chrome()\n",
    "driver.maximize_window()\n",
    "\n",
    "driver.get(\"https://www.roboform.com/filling-test-all-fields\")\n",
    "\n",
    "WebDriverWait(driver, 10).until(EC.presence_of_element_located((By.ID, \"dlbtn\")))\n",
    "\n",
    "# campo_botao = driver.find_element(By.ID, 'dlbtn').click()\n",
    "# caso fosse um campo de escrita campo_botao.send_keys('Aloooou')\n",
    "time.sleep(3)\n",
    "driver.back()\n",
    "\n",
    "driver.find_element(By.XPATH, '/html/body/div[2]/form/div/div[1]/div[1]/div[2]/input').send_keys('aoowww')\n",
    "\n",
    "print(driver.find_element(By.XPATH, '/html/body/div[2]/section/div/h1').text)\n",
    "\n",
    "\n",
    "\n"
   ]
  }
 ],
 "metadata": {
  "kernelspec": {
   "display_name": "Python 3",
   "language": "python",
   "name": "python3"
  },
  "language_info": {
   "codemirror_mode": {
    "name": "ipython",
    "version": 3
   },
   "file_extension": ".py",
   "mimetype": "text/x-python",
   "name": "python",
   "nbconvert_exporter": "python",
   "pygments_lexer": "ipython3",
   "version": "3.12.10"
  }
 },
 "nbformat": 4,
 "nbformat_minor": 5
}
