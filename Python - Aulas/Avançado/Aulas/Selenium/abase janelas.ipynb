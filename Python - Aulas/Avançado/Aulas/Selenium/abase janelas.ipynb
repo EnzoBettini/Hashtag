{
 "cells": [
  {
   "cell_type": "code",
   "execution_count": 3,
   "id": "c8a67ba0",
   "metadata": {},
   "outputs": [],
   "source": [
    "from selenium import webdriver\n",
    "from selenium.webdriver.common.by import By\n",
    "from selenium.webdriver.support.wait import WebDriverWait\n",
    "from selenium.webdriver.support import expected_conditions as EC\n",
    "from selenium.webdriver.common.alert import Alert ######\n",
    "import time\n",
    "\n",
    "driver = webdriver.Chrome()\n",
    "driver.maximize_window()\n",
    "\n",
    "driver.get(r\"C:\\Users\\enzo.bettini\\Documents\\Hashtag\\Python - Aulas\\Avançado\\Aulas\\Selenium\\abas e janelas.html\")\n",
    "\n",
    "driver.find_element(By.ID, 'link').click()\n",
    "\n",
    "aba_original = driver.window_handles[0]\n",
    "aba_depois = driver.window_handles[1]\n",
    "\n",
    "driver.switch_to.window(aba_depois)\n",
    "\n"
   ]
  }
 ],
 "metadata": {
  "kernelspec": {
   "display_name": "Python 3",
   "language": "python",
   "name": "python3"
  },
  "language_info": {
   "codemirror_mode": {
    "name": "ipython",
    "version": 3
   },
   "file_extension": ".py",
   "mimetype": "text/x-python",
   "name": "python",
   "nbconvert_exporter": "python",
   "pygments_lexer": "ipython3",
   "version": "3.12.10"
  }
 },
 "nbformat": 4,
 "nbformat_minor": 5
}
