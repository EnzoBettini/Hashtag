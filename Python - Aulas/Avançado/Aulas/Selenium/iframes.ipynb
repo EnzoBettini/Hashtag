{
 "cells": [
  {
   "cell_type": "code",
   "execution_count": null,
   "id": "e070a61f",
   "metadata": {},
   "outputs": [],
   "source": [
    "iframe = navegador.find_element(By.TAG_NAME, 'iframe')\n",
    "navegador.switch_to.frame(iframe)"
   ]
  }
 ],
 "metadata": {
  "language_info": {
   "name": "python"
  }
 },
 "nbformat": 4,
 "nbformat_minor": 5
}
