{
 "cells": [
  {
   "cell_type": "code",
   "execution_count": null,
   "id": "2b7507a4",
   "metadata": {},
   "outputs": [],
   "source": [
    "import pyodbc\n",
    "import pandas as pd\n",
    "\n",
    "# Conecta no banco\n",
    "conn = pyodbc.connect(\n",
    "    \"DRIVER={PostgreSQL Unicode(x64)};\"\n",
    "    \"SERVER=localhost;\"\n",
    "    \"PORT=5432;\"\n",
    "    \"DATABASE=meu_banco;\"\n",
    "    \"UID=postgres;\"\n",
    "    \"PWD=postgres;\"\n",
    ")\n",
    "cursor = conn.cursor()\n",
    "\n",
    "cursor.execute(\"SELECT * FROM customers\")\n",
    "\n",
    "dados = cursor.fetchall()\n",
    "colunas = [desc[0] for desc in cursor.description]\n",
    "\n",
    "tabela_clientes = pd.DataFrame.from_records(dados, columns=colunas)\n",
    "\n",
    "display(tabela_clientes)\n",
    "\n",
    "cursor.close()\n",
    "conn.close()\n"
   ]
  },
  {
   "cell_type": "code",
   "execution_count": null,
   "id": "095f882b",
   "metadata": {},
   "outputs": [],
   "source": [
    "import pyodbc\n",
    "import pandas as pd\n",
    "\n",
    "# Conecta no banco\n",
    "conn = pyodbc.connect(\n",
    "    \"DRIVER={PostgreSQL Unicode(x64)};\"\n",
    "    \"SERVER=localhost;\"\n",
    "    \"PORT=5432;\"\n",
    "    \"DATABASE=meu_banco;\"\n",
    "    \"UID=postgres;\"\n",
    "    \"PWD=postgres;\"\n",
    ")\n",
    "\n",
    "tabela_clientes = pd.read_sql('SELECT * FROM customers', conn)\n",
    "\n",
    "display(tabela_clientes)\n",
    "\n",
    "conn.close()\n"
   ]
  }
 ],
 "metadata": {
  "kernelspec": {
   "display_name": "Python 3",
   "language": "python",
   "name": "python3"
  },
  "language_info": {
   "codemirror_mode": {
    "name": "ipython",
    "version": 3
   },
   "file_extension": ".py",
   "mimetype": "text/x-python",
   "name": "python",
   "nbconvert_exporter": "python",
   "pygments_lexer": "ipython3",
   "version": "3.12.10"
  }
 },
 "nbformat": 4,
 "nbformat_minor": 5
}
