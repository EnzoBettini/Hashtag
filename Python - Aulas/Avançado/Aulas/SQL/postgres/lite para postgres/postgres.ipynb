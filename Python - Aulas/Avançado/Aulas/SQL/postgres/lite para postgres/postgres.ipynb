{
 "cells": [
  {
   "cell_type": "code",
   "execution_count": null,
   "id": "5c8e0e6a",
   "metadata": {},
   "outputs": [],
   "source": [
    "import pyodbc\n",
    "\n",
    "conn = pyodbc.connect(\n",
    "    \"DRIVER={PostgreSQL Unicode(x64)};\"\n",
    "    \"SERVER=localhost;\"\n",
    "    \"PORT=5432;\"\n",
    "    \"DATABASE=meu_banco;\"\n",
    "    \"UID=postgres;\"\n",
    "    \"PWD=postgres;\"\n",
    ")\n",
    "\n",
    "cursor = conn.cursor()\n",
    "\n",
    "cursor.execute(\"SELECT * FROM artists LIMIT 10\")\n",
    "valores = cursor.fetchall()\n",
    "\n",
    "print(valores)\n"
   ]
  }
 ],
 "metadata": {
  "kernelspec": {
   "display_name": "Python 3",
   "language": "python",
   "name": "python3"
  },
  "language_info": {
   "codemirror_mode": {
    "name": "ipython",
    "version": 3
   },
   "file_extension": ".py",
   "mimetype": "text/x-python",
   "name": "python",
   "nbconvert_exporter": "python",
   "pygments_lexer": "ipython3",
   "version": "3.12.10"
  }
 },
 "nbformat": 4,
 "nbformat_minor": 5
}
