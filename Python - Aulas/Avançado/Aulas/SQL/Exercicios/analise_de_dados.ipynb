{
 "cells": [
  {
   "cell_type": "code",
   "execution_count": null,
   "id": "e6a690cc",
   "metadata": {},
   "outputs": [],
   "source": [
    "import pyodbc\n",
    "import pandas as pd\n",
    "\n",
    "# Conecta no banco\n",
    "conn = pyodbc.connect(\n",
    "    \"DRIVER={PostgreSQL Unicode(x64)};\"\n",
    "    \"SERVER=localhost;\"\n",
    "    \"PORT=5432;\"\n",
    "    \"DATABASE=meu_banco;\"\n",
    "    \"UID=postgres;\"\n",
    "    \"PWD=postgres;\"\n",
    ")\n",
    "cursor = conn.cursor()\n",
    "\n",
    "df = pd.read_sql('SELECT * FROM \"Salaries\"', conn)\n",
    "\n",
    "cursor.commit()\n",
    "\n",
    "cursor.close()\n",
    "conn.close()"
   ]
  },
  {
   "cell_type": "code",
   "execution_count": null,
   "id": "09a44216",
   "metadata": {},
   "outputs": [],
   "source": [
    "df_sf = df.loc[df['Agency']==\"San Francisco\", :]\n",
    "df_evolucao = df_sf[['Year', 'TotalPay', 'TotalPayBenefits']].groupby('Year').mean()\n",
    "display(df_evolucao)"
   ]
  },
  {
   "cell_type": "code",
   "execution_count": null,
   "id": "7fc449cb",
   "metadata": {},
   "outputs": [],
   "source": [
    "df_qtde = df_sf.groupby('Year').count()\n",
    "df_qtde = df_qtde[['Id']].rename(columns={'Id': 'QTDE'})\n",
    "display(df_qtde)"
   ]
  },
  {
   "cell_type": "code",
   "execution_count": null,
   "id": "47f670f7",
   "metadata": {},
   "outputs": [],
   "source": [
    "def formatar(valor):\n",
    "    return f'R${valor:,.2f}'\n",
    "\n",
    "df_total = df_sf[['Year', 'TotalPay', 'TotalPayBenefits']].groupby('Year').sum()\n",
    "df_total['TotalPay'] = df_total['TotalPay'].apply(formatar)\n",
    "df_total['TotalPayBenefits'] = df_total['TotalPayBenefits'].apply(formatar)\n",
    "display(df_total)"
   ]
  }
 ],
 "metadata": {
  "kernelspec": {
   "display_name": "Python 3",
   "language": "python",
   "name": "python3"
  },
  "language_info": {
   "codemirror_mode": {
    "name": "ipython",
    "version": 3
   },
   "file_extension": ".py",
   "mimetype": "text/x-python",
   "name": "python",
   "nbconvert_exporter": "python",
   "pygments_lexer": "ipython3",
   "version": "3.12.10"
  }
 },
 "nbformat": 4,
 "nbformat_minor": 5
}
