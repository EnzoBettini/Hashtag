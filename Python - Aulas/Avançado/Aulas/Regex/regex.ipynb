{
 "cells": [
  {
   "cell_type": "code",
   "execution_count": 1,
   "id": "006c066b",
   "metadata": {},
   "outputs": [],
   "source": [
    "texto = \"\"\"\n",
    "Este é um texto de exemplo para um teste, focado em exibir informações sobre produtos, seus tipos, valores e descrições detalhadas. A intenção é simular um catálogo ou uma base de dados de itens, onde cada entrada contém atributos essenciais para identificação e contextualização.\n",
    "\n",
    "---\n",
    "\n",
    "**Produto 1: Smartphone Ultra Plus**\n",
    "* **Tipo:** Eletrônico\n",
    "* **Valor:** R$ 3.500,00\n",
    "* **Descrição:** Um smartphone de última geração com tela AMOLED de 6.7 polegadas, câmera tripla de 108MP, processador octa-core de 3.2GHz e bateria de longa duração de 5000mAh. Possui 256GB de armazenamento interno e 12GB de RAM, ideal para jogos e multitarefas. Inclui conectividade 5G e carregamento rápido. Disponível nas cores preto ônix e azul safira.\n",
    "\n",
    "---\n",
    "\n",
    "**Produto 2: Cafeteira Expresso Premium**\n",
    "* **Tipo:** Eletrodoméstico\n",
    "* **Valor:** R$ 899,90\n",
    "* **Descrição:** Cafeteira expresso de alta performance com sistema de aquecimento rápido, bomba de 15 bares de pressão e reservatório de água de 1.5 litros. Prepara cafés cremosos e aromáticos com facilidade. Possui bico vaporizador para leite e design compacto em aço inoxidável escovado. Acompanha colher medidora e filtro permanente. Perfeita para os amantes de café gourmet.\n",
    "\n",
    "---\n",
    "\n",
    "**Produto 3: Livro \"A Crônica do Tempo Perdido\"**\n",
    "* **Tipo:** Mídia/Cultura\n",
    "* **Valor:** R$ 75,00\n",
    "* **Descrição:** Romance épico de fantasia com mais de 800 páginas, narrando a jornada de um herói improvável em um mundo repleto de magia, criaturas míticas e reinos em conflito. Escrito por um autor best-seller, este volume é o primeiro de uma trilogia aclamada pela crítica, oferecendo uma imersão profunda em sua rica mitologia e personagens complexos. Edição de capa dura com ilustrações exclusivas.\n",
    "\n",
    "---\n",
    "\n",
    "**Produto 4: Tênis Esportivo Pro Runner**\n",
    "* **Tipo:** Vestuário/Calçado\n",
    "* **Valor:** R$ 450,00\n",
    "* **Descrição:** Tênis de corrida de alta performance projetado para oferecer máximo conforto e suporte. Possui tecnologia de amortecimento responsivo, cabedal em malha respirável para ventilação e solado de borracha de alta aderência para diversas superfícies. Ideal para corredores de longa distância e treinos intensos. Disponível em tamanhos do 38 ao 44 e em diversas combinações de cores vibrantes.\n",
    "\n",
    "---\n",
    "\n",
    "**Produto 5: Console de Videogame X-Play 5**\n",
    "* **Tipo:** Eletrônico/Entretenimento\n",
    "* **Valor:** R$ 4.999,00\n",
    "* **Descrição:** Console de última geração com gráficos 8K e ray tracing, SSD ultrarrápido para carregamento instantâneo de jogos e áudio 3D imersivo. Acompanha controle sem fio DualSense com feedback háptico e gatilhos adaptáveis. Inclui uma vasta biblioteca de jogos exclusivos e compatibilidade com versões anteriores. Perfeito para uma experiência de jogo sem precedentes, seja para jogadores casuais ou hardcore.\n",
    "\n",
    "---\n",
    "\"\"\""
   ]
  },
  {
   "cell_type": "code",
   "execution_count": null,
   "id": "2ec93fb6",
   "metadata": {},
   "outputs": [
    {
     "name": "stdout",
     "output_type": "stream",
     "text": [
      "<callable_iterator object at 0x000002765CF2D150>\n"
     ]
    }
   ],
   "source": [
    "import re\n",
    "\n",
    "padrao = re.compile('Valor')\n",
    "resultado = re.findall(padrao, texto)\n",
    "resultado = re.search(padrao, texto)\n",
    "resultado = re.finditer(padrao, texto) # search aplicado um findall\n",
    "\n",
    "print(resultado)"
   ]
  },
  {
   "cell_type": "code",
   "execution_count": 11,
   "id": "4e2126bf",
   "metadata": {},
   "outputs": [
    {
     "name": "stdout",
     "output_type": "stream",
     "text": [
      "['3.500,00', '899,90', '75,00', '450,00', '4.999,00']\n"
     ]
    }
   ],
   "source": [
    "padrao = re.compile(r'\\d{1,3}(?:\\.\\d{3})*,\\d{2}')\n",
    "resultado = re.findall(padrao, texto)\n",
    "\n",
    "print(resultado)\n"
   ]
  }
 ],
 "metadata": {
  "kernelspec": {
   "display_name": "Python 3",
   "language": "python",
   "name": "python3"
  },
  "language_info": {
   "codemirror_mode": {
    "name": "ipython",
    "version": 3
   },
   "file_extension": ".py",
   "mimetype": "text/x-python",
   "name": "python",
   "nbconvert_exporter": "python",
   "pygments_lexer": "ipython3",
   "version": "3.12.10"
  }
 },
 "nbformat": 4,
 "nbformat_minor": 5
}
