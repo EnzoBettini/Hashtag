{
 "cells": [
  {
   "cell_type": "code",
   "execution_count": null,
   "id": "073f7141",
   "metadata": {},
   "outputs": [],
   "source": [
    "import webbrowser as wb\n",
    "\n",
    "wb.get().open('https://youtube.com')\n"
   ]
  },
  {
   "cell_type": "code",
   "execution_count": null,
   "id": "997c4386",
   "metadata": {},
   "outputs": [],
   "source": [
    "import time\n",
    "\n",
    "seconds = time.time()\n",
    "real_seconds = time.ctime()\n",
    "hora_geral = time.localtime()\n",
    "hora_local = time.localtime()\n",
    "time.sleep(2)\n",
    "\n",
    "print('Seconds since 1970 =', seconds)\n",
    "print('Data real =', real_seconds)\n",
    "print('GM time = ', hora_geral)\n",
    "print('Local time = ', hora_local)"
   ]
  },
  {
   "cell_type": "code",
   "execution_count": null,
   "id": "f426b86b",
   "metadata": {},
   "outputs": [],
   "source": [
    "import time\n",
    "import locale\n",
    "\n",
    "locale.setlocale(locale.LC_TIME, 'pt-BR.UTF-8')\n",
    "\n",
    "horario_dia = time.localtime()\n",
    "\n",
    "print(time.strftime(\"%d %B %Y\", horario_dia))\n"
   ]
  },
  {
   "cell_type": "code",
   "execution_count": null,
   "id": "9440082d",
   "metadata": {},
   "outputs": [],
   "source": [
    "import time\n",
    "\n",
    "string_tempo = '20 agosto 2023'\n",
    "formato = '%d %B %Y'\n",
    "tempo_struct = time.strptime(string_tempo, formato)\n",
    "print(tempo_struct)"
   ]
  }
 ],
 "metadata": {
  "kernelspec": {
   "display_name": "Python 3",
   "language": "python",
   "name": "python3"
  },
  "language_info": {
   "codemirror_mode": {
    "name": "ipython",
    "version": 3
   },
   "file_extension": ".py",
   "mimetype": "text/x-python",
   "name": "python",
   "nbconvert_exporter": "python",
   "pygments_lexer": "ipython3",
   "version": "3.12.10"
  }
 },
 "nbformat": 4,
 "nbformat_minor": 5
}
