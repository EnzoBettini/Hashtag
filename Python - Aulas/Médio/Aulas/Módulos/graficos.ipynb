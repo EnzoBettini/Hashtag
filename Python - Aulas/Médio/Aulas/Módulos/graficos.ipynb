{
 "cells": [
  {
   "cell_type": "code",
   "execution_count": null,
   "id": "c9f0c8b2",
   "metadata": {},
   "outputs": [],
   "source": [
    "import matplotlib.pyplot as plt\n",
    "\n",
    "vendas_meses = [1500, 1727, 1350, 999, 1050, 1027, 1022, 1500, 2000, 1433, 2100, 2762]\n",
    "meses = ['jan', 'fev', 'mar', 'abr', 'mai', 'jun', 'jul', 'ago', 'set', 'out', 'nov', 'dez']\n",
    "\n",
    "plt.plot(meses, vendas_meses)\n",
    "plt.ylabel(\"Vendas\")\n",
    "plt.xlabel(\"Meses\")\n",
    "plt.axis([0, 12, 0, 3000])\n",
    "plt.show()"
   ]
  },
  {
   "cell_type": "code",
   "execution_count": null,
   "id": "90c42f15",
   "metadata": {},
   "outputs": [],
   "source": [
    "import matplotlib.pyplot as plt\n",
    "import numpy as np\n",
    "\n",
    "vendas = np.random.randint(1000, 3000, 50)\n",
    "meses = np.arange(1, 51)\n",
    "\n",
    "plt.figure(figsize = (25, 3))\n",
    "\n",
    "plt.subplot(1, 3, 1)\n",
    "plt.plot(meses, vendas, '-', color='green')\n",
    "plt.axis([0, 50, 0, max(vendas) + 200])\n",
    "plt.subplot(1, 3, 2)\n",
    "plt.scatter(meses, vendas)\n",
    "plt.subplot(1, 3, 3)\n",
    "plt.bar(meses, vendas)\n",
    "plt.show()\n"
   ]
  }
 ],
 "metadata": {
  "kernelspec": {
   "display_name": "Python 3",
   "language": "python",
   "name": "python3"
  },
  "language_info": {
   "codemirror_mode": {
    "name": "ipython",
    "version": 3
   },
   "file_extension": ".py",
   "mimetype": "text/x-python",
   "name": "python",
   "nbconvert_exporter": "python",
   "pygments_lexer": "ipython3",
   "version": "3.12.10"
  }
 },
 "nbformat": 4,
 "nbformat_minor": 5
}
