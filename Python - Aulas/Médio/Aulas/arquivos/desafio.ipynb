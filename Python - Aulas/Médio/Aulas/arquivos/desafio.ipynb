{
 "cells": [
  {
   "cell_type": "code",
   "execution_count": 15,
   "id": "73698649",
   "metadata": {},
   "outputs": [],
   "source": [
    "from pathlib import Path\n",
    "import shutil\n",
    "\n",
    "caminho = Path(r'C:\\Users\\enzo.bettini\\Documents\\Hashtag\\Python - Aulas\\Médio\\Aulas\\arquivos\\Arquivos_Lojas\\Arquivos_Lojas')\n",
    "\n",
    "arquivos = list(caminho.iterdir())\n",
    "\n",
    "pasta_estados = Path('Estados')\n",
    "pasta_estados.mkdir(exist_ok=True)\n",
    "\n",
    "(Path('Estados/RJ')).mkdir(exist_ok=True)\n",
    "(Path('Estados/SP')).mkdir(exist_ok=True)\n",
    "(Path('Estados/MG')).mkdir(exist_ok=True)\n",
    "(Path('Estados/GO')).mkdir(exist_ok=True)\n",
    "(Path('Estados/AM')).mkdir(exist_ok=True)\n",
    "for arquivo in arquivos:\n",
    "    if '_RJ' in arquivo.name:\n",
    "        source = fr'C:\\Users\\enzo.bettini\\Documents\\Hashtag\\Python - Aulas\\Médio\\Aulas\\arquivos\\Arquivos_Lojas\\Arquivos_Lojas\\{arquivo.name}'\n",
    "        destination = r'C:\\Users\\enzo.bettini\\Documents\\Hashtag\\Python - Aulas\\Médio\\Aulas\\arquivos\\Estados\\RJ'\n",
    "        shutil.move(source, destination)\n",
    "    elif '_SP' in arquivo.name:\n",
    "        source = fr'C:\\Users\\enzo.bettini\\Documents\\Hashtag\\Python - Aulas\\Médio\\Aulas\\arquivos\\Arquivos_Lojas\\Arquivos_Lojas\\{arquivo.name}'\n",
    "        destination = r'C:\\Users\\enzo.bettini\\Documents\\Hashtag\\Python - Aulas\\Médio\\Aulas\\arquivos\\Estados\\SP'\n",
    "        shutil.move(source, destination)\n",
    "    elif '_GO' in arquivo.name:\n",
    "        source = fr'C:\\Users\\enzo.bettini\\Documents\\Hashtag\\Python - Aulas\\Médio\\Aulas\\arquivos\\Arquivos_Lojas\\Arquivos_Lojas\\{arquivo.name}'\n",
    "        destination = r'C:\\Users\\enzo.bettini\\Documents\\Hashtag\\Python - Aulas\\Médio\\Aulas\\arquivos\\Estados\\GO'\n",
    "        shutil.move(source, destination)\n",
    "    elif '_MG' in arquivo.name:\n",
    "        source = fr'C:\\Users\\enzo.bettini\\Documents\\Hashtag\\Python - Aulas\\Médio\\Aulas\\arquivos\\Arquivos_Lojas\\Arquivos_Lojas\\{arquivo.name}'\n",
    "        destination = r'C:\\Users\\enzo.bettini\\Documents\\Hashtag\\Python - Aulas\\Médio\\Aulas\\arquivos\\Estados\\MG'\n",
    "        shutil.move(source, destination)\n",
    "    elif '_AM' in arquivo.name:\n",
    "        source = fr'C:\\Users\\enzo.bettini\\Documents\\Hashtag\\Python - Aulas\\Médio\\Aulas\\arquivos\\Arquivos_Lojas\\Arquivos_Lojas\\{arquivo.name}'\n",
    "        destination = r'C:\\Users\\enzo.bettini\\Documents\\Hashtag\\Python - Aulas\\Médio\\Aulas\\arquivos\\Estados\\AM'\n",
    "        shutil.move(source, destination)"
   ]
  }
 ],
 "metadata": {
  "kernelspec": {
   "display_name": "Python 3",
   "language": "python",
   "name": "python3"
  },
  "language_info": {
   "codemirror_mode": {
    "name": "ipython",
    "version": 3
   },
   "file_extension": ".py",
   "mimetype": "text/x-python",
   "name": "python",
   "nbconvert_exporter": "python",
   "pygments_lexer": "ipython3",
   "version": "3.12.10"
  }
 },
 "nbformat": 4,
 "nbformat_minor": 5
}
