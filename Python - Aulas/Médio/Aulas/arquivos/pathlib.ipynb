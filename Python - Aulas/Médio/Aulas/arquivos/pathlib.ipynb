{
 "cells": [
  {
   "cell_type": "code",
   "execution_count": null,
   "id": "6b83231e",
   "metadata": {},
   "outputs": [],
   "source": [
    "from pathlib import Path\n",
    "\n",
    "caminho = Path(r'C:\\Users\\enzo.bettini\\Documents\\Hashtag\\Python - Aulas\\Médio\\Aulas\\arquivos\\Arquivos_Lojas\\Arquivos_Lojas')\n",
    "\n",
    "arquivos = list(caminho.iterdir())\n",
    "print(f'{len(arquivos)} arquivos encontrados.')\n",
    "for arquivo in arquivos:\n",
    "    print(arquivo)"
   ]
  },
  {
   "cell_type": "code",
   "execution_count": null,
   "id": "a22c1473",
   "metadata": {},
   "outputs": [],
   "source": [
    "from pathlib import Path\n",
    "\n",
    "Path('Pasta aux').mkdir()"
   ]
  },
  {
   "cell_type": "code",
   "execution_count": null,
   "id": "7bd8fc4a",
   "metadata": {},
   "outputs": [],
   "source": [
    "import shutil\n",
    "arquivo_copia = Path(r'C:\\Users\\enzo.bettini\\Documents\\Hashtag\\Python - Aulas\\Médio\\Aulas\\arquivos\\Arquivos_Lojas\\Arquivos_Lojas\\202004_Shopping Tijuca_RJ.csv')\n",
    "print(Path.cwd())\n",
    "arquivo_colar = Path('Pasta Aux/202004_Shopping Tijuca_RJ.csv')\n",
    "shutil.copy2(arquivo_copia, arquivo_colar)"
   ]
  }
 ],
 "metadata": {
  "kernelspec": {
   "display_name": "Python 3",
   "language": "python",
   "name": "python3"
  },
  "language_info": {
   "codemirror_mode": {
    "name": "ipython",
    "version": 3
   },
   "file_extension": ".py",
   "mimetype": "text/x-python",
   "name": "python",
   "nbconvert_exporter": "python",
   "pygments_lexer": "ipython3",
   "version": "3.12.10"
  }
 },
 "nbformat": 4,
 "nbformat_minor": 5
}
