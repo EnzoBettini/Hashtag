{
 "cells": [
  {
   "cell_type": "code",
   "execution_count": null,
   "id": "e20e0105",
   "metadata": {},
   "outputs": [],
   "source": [
    "import pandas as pd\n",
    "\n",
    "vendas = pd.read_csv('./csv/vendas.csv', sep=';')\n",
    "produtos = pd.read_csv('./csv/cadastro.csv', sep=';')\n",
    "lojas = pd.read_csv('./csv/lojas.csv', sep=';')\n",
    "clientes = pd.read_csv('./csv/clientes.csv', sep=';')\n",
    "\n",
    "clientes = clientes.drop(['Unnamed: 7', 'Unnamed: 8', 'Unnamed: 9', 'Unnamed: 10'], axis=1)\n",
    "\n",
    "clientes_merge = clientes[['ID Cliente', 'E-mail']]\n",
    "produtos_merge = produtos[['ID Produto', 'Nome do Produto']]\n",
    "lojas_merge = lojas[['ID Loja', 'Nome da Loja']]\n",
    "\n",
    "vendas = vendas.merge(produtos_merge, on='ID Produto')\n",
    "vendas = vendas.merge(lojas_merge, on='ID Loja')\n",
    "vendas = vendas.merge(clientes_merge, on='ID Cliente')\n",
    "\n",
    "vendas = vendas.rename(columns={'E-mail': 'E-mail do cliente'})\n",
    "\n",
    "display(vendas)\n"
   ]
  },
  {
   "cell_type": "code",
   "execution_count": null,
   "id": "5f00363a",
   "metadata": {},
   "outputs": [],
   "source": [
    "quantidade_vendida = vendas['Quantidade Vendida'].sum()\n",
    "quantidade_devolvida = vendas['Quantidade Devolvida'].sum()\n",
    "\n",
    "print(f'{quantidade_devolvida / quantidade_vendida:.2%}')"
   ]
  },
  {
   "cell_type": "code",
   "execution_count": null,
   "id": "66b27d2c",
   "metadata": {},
   "outputs": [],
   "source": [
    "vendas_online = vendas[vendas['ID Loja'] == 306]\n",
    "quantidade_vendida = vendas_online['Quantidade Vendida'].sum()\n",
    "quantidade_devolvida = vendas_online['Quantidade Devolvida'].sum()\n",
    "\n",
    "vendas_online.to_csv('teste_exportação.csv')\n",
    "\n",
    "print(f'{quantidade_devolvida / quantidade_vendida:.2%}')"
   ]
  },
  {
   "cell_type": "code",
   "execution_count": null,
   "id": "23ea83dc",
   "metadata": {},
   "outputs": [],
   "source": [
    "vendas['Data da Venda'] = pd.to_datetime(vendas['Data da Venda'], format='%d/%m/%Y')\n",
    "vendas['Ano da Venda'] = vendas['Data da Venda'].dt.year\n",
    "display(vendas)"
   ]
  },
  {
   "cell_type": "code",
   "execution_count": null,
   "id": "5a490864",
   "metadata": {},
   "outputs": [],
   "source": [
    "print(vendas.loc[980637, 'Quantidade Vendida'])"
   ]
  }
 ],
 "metadata": {
  "kernelspec": {
   "display_name": "Python 3",
   "language": "python",
   "name": "python3"
  },
  "language_info": {
   "codemirror_mode": {
    "name": "ipython",
    "version": 3
   },
   "file_extension": ".py",
   "mimetype": "text/x-python",
   "name": "python",
   "nbconvert_exporter": "python",
   "pygments_lexer": "ipython3",
   "version": "3.12.10"
  }
 },
 "nbformat": 4,
 "nbformat_minor": 5
}
