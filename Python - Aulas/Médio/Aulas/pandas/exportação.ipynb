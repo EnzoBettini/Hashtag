{
 "cells": [
  {
   "cell_type": "code",
   "execution_count": null,
   "id": "03c5ed2a",
   "metadata": {},
   "outputs": [],
   "source": [
    "import pandas as pd\n",
    "\n",
    "dados_eletronicos = {\n",
    "    'Item Eletrônico': [\n",
    "        'Smartphone X',\n",
    "        'Notebook Gamer Pro',\n",
    "        'Smart TV 55\"',\n",
    "        'Fone de Ouvido Bluetooth',\n",
    "        'Caixa de Som Portátil',\n",
    "        'Tablet Ultra Fino',\n",
    "        'Smartwatch Sport',\n",
    "        'Console de Videogame',\n",
    "        'Câmera Digital DSLR',\n",
    "        'Monitor Ultrawide'\n",
    "    ],\n",
    "    'Quantidade Vendida': [\n",
    "        1250,  # Smartphone X\n",
    "        780,   # Notebook Gamer Pro\n",
    "        520,   # Smart TV 55\"\n",
    "        2100,  # Fone de Ouvido Bluetooth\n",
    "        950,   # Caixa de Som Portátil\n",
    "        410,   # Tablet Ultra Fino\n",
    "        680,   # Smartwatch Sport\n",
    "        890,   # Console de Videogame\n",
    "        300,   # Câmera Digital DSLR\n",
    "        450    # Monitor Ultrawide\n",
    "    ]\n",
    "}\n",
    "\n",
    "sales_df = pd.DataFrame(dados_eletronicos)\n",
    "\n",
    "display(sales_df)"
   ]
  },
  {
   "cell_type": "code",
   "execution_count": null,
   "id": "20461bf5",
   "metadata": {},
   "outputs": [],
   "source": [
    "url = 'https://people.sc.fsu.edu/~jburkardt/data/csv/addresses.csv'\n",
    "cotacao = pd.read_csv(url, header=None)\n",
    "cotacao = cotacao.rename(columns={0: 'Name', 1: 'Second Name', 2: 'Adress'})\n",
    "display(cotacao)\n",
    "\n",
    "#ler um csv cagado modulo 22 aula 12"
   ]
  },
  {
   "cell_type": "code",
   "execution_count": null,
   "id": "5aad596e",
   "metadata": {},
   "outputs": [],
   "source": [
    "import pandas as pd\n",
    "import requests\n",
    "import io\n",
    "\n",
    "url = 'http://portalweb.cooxupe.com.br:8080/portal/precohistoricoocafe_2.jsp?d=3496238-e=286578706f7274=1'\n",
    "conteudo_url = requests.get(url).content\n",
    "arquivo = io.StringIO(conteudo_url.decode('latin1'))\n",
    "cafe_df = pd.read_csv(arquivo, sep='\\t')\n",
    "print(conteudo_url)"
   ]
  }
 ],
 "metadata": {
  "kernelspec": {
   "display_name": "Python 3",
   "language": "python",
   "name": "python3"
  },
  "language_info": {
   "codemirror_mode": {
    "name": "ipython",
    "version": 3
   },
   "file_extension": ".py",
   "mimetype": "text/x-python",
   "name": "python",
   "nbconvert_exporter": "python",
   "pygments_lexer": "ipython3",
   "version": "3.12.10"
  }
 },
 "nbformat": 4,
 "nbformat_minor": 5
}
