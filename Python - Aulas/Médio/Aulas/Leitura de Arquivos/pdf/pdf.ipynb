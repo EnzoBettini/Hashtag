{
 "cells": [
  {
   "cell_type": "code",
   "execution_count": 8,
   "id": "2bd6dc49",
   "metadata": {},
   "outputs": [],
   "source": [
    "import PyPDF2 as pyf\n",
    "from pathlib import Path\n",
    "\n",
    "nome = 'MGLU_ER_3T20_POR.pdf'\n",
    "arquivo_pdf = pyf.PdfReader(nome)\n",
    "\n",
    "for i, pagina in enumerate(arquivo_pdf.pages):\n",
    "    num_pagina = i + 1\n",
    "    novo_pdf = pyf.PdfWriter()\n",
    "    novo_pdf.add_page(pagina)\n",
    "    with Path(f'paginas/Arquivo pagina {num_pagina}.pdf').open(mode='wb') as arquivo:\n",
    "        novo_pdf.write(arquivo)"
   ]
  }
 ],
 "metadata": {
  "kernelspec": {
   "display_name": "Python 3",
   "language": "python",
   "name": "python3"
  },
  "language_info": {
   "codemirror_mode": {
    "name": "ipython",
    "version": 3
   },
   "file_extension": ".py",
   "mimetype": "text/x-python",
   "name": "python",
   "nbconvert_exporter": "python",
   "pygments_lexer": "ipython3",
   "version": "3.12.10"
  }
 },
 "nbformat": 4,
 "nbformat_minor": 5
}
