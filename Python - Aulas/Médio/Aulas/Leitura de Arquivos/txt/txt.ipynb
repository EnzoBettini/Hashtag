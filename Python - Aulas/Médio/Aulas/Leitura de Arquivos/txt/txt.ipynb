{
 "cells": [
  {
   "cell_type": "code",
   "execution_count": 14,
   "id": "d33505bc",
   "metadata": {},
   "outputs": [],
   "source": [
    "arquivo = open('Teste.txt', 'w')\n",
    "arquivo.write('Olá todos')\n",
    "arquivo.close()\n",
    "\n",
    "\n",
    "with open('Resumo 2.txt', 'w') as arquivo2:\n",
    "    arquivo2.write('Olá todos')"
   ]
  }
 ],
 "metadata": {
  "kernelspec": {
   "display_name": "Python 3",
   "language": "python",
   "name": "python3"
  },
  "language_info": {
   "codemirror_mode": {
    "name": "ipython",
    "version": 3
   },
   "file_extension": ".py",
   "mimetype": "text/x-python",
   "name": "python",
   "nbconvert_exporter": "python",
   "pygments_lexer": "ipython3",
   "version": "3.12.10"
  }
 },
 "nbformat": 4,
 "nbformat_minor": 5
}
