{
 "cells": [
  {
   "cell_type": "code",
   "execution_count": null,
   "id": "736fd287",
   "metadata": {},
   "outputs": [],
   "source": [
    "with open('Alunos.txt', 'r') as arquivo:\n",
    "    linhas = arquivo.readlines()\n",
    "    del linhas[:4]\n",
    "\n",
    "    qtd_anuncio = 0\n",
    "    qtd_org = 0\n",
    "    qtd_yt_org = 0\n",
    "    qtd_ig_org = 0\n",
    "    qtd_site_org = 0\n",
    "\n",
    "    for linha in linhas:\n",
    "        email, origem = linha.split(',')\n",
    "        if '_org' in origem:\n",
    "            qtd_org += 1\n",
    "            if 'hashtag_yt_org' in origem:\n",
    "                qtd_yt_org += 1\n",
    "            if 'hashtag_ig_org' in origem or 'hashtag_igfb_org' in origem:\n",
    "                qtd_ig_org += 1\n",
    "            if 'hashtag_site_org' in origem:\n",
    "                qtd_site_org += 1\n",
    "        else:\n",
    "            qtd_anuncio +=1\n",
    "\n",
    "    print(qtd_anuncio)\n",
    "    print(qtd_org)\n",
    "    print(qtd_yt_org)\n",
    "    print(qtd_ig_org)\n",
    "    print(qtd_site_org)\n"
   ]
  }
 ],
 "metadata": {
  "kernelspec": {
   "display_name": "Python 3",
   "language": "python",
   "name": "python3"
  },
  "language_info": {
   "codemirror_mode": {
    "name": "ipython",
    "version": 3
   },
   "file_extension": ".py",
   "mimetype": "text/x-python",
   "name": "python",
   "nbconvert_exporter": "python",
   "pygments_lexer": "ipython3",
   "version": "3.12.10"
  }
 },
 "nbformat": 4,
 "nbformat_minor": 5
}
