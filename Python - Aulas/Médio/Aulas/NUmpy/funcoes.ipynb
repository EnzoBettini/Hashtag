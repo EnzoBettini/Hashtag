{
 "cells": [
  {
   "cell_type": "code",
   "execution_count": null,
   "id": "8124d95f",
   "metadata": {},
   "outputs": [],
   "source": [
    "import numpy as np\n",
    "\n",
    "precos = np.array([20, 25, 60, 100, 10])\n",
    "\n",
    "novos_precos = precos * 1.1\n",
    "\n",
    "print(novos_precos)"
   ]
  },
  {
   "cell_type": "code",
   "execution_count": null,
   "id": "21b21079",
   "metadata": {},
   "outputs": [],
   "source": [
    "import time\n",
    "a1 = time.time()\n",
    "print(np.sum(precos))\n",
    "d1 = time.time()\n",
    "f1 = d1 - a1\n",
    "print(f1)\n",
    "a1 = time.time()\n",
    "print(sum(precos))\n",
    "d1 = time.time()\n",
    "f1 = d1 - a1\n",
    "print(f1)"
   ]
  },
  {
   "cell_type": "code",
   "execution_count": null,
   "id": "63b47337",
   "metadata": {},
   "outputs": [],
   "source": [
    "media = np.mean(precos)\n",
    "print(media)\n",
    "\n",
    "produto_caro = np.max(precos)\n",
    "produto_barato = np.min(precos)\n",
    "\n",
    "precos_ordenados = np.sort(precos)"
   ]
  },
  {
   "cell_type": "code",
   "execution_count": null,
   "id": "c025e64e",
   "metadata": {},
   "outputs": [],
   "source": [
    "valores = np.array([10, 20, 30, 40])\n",
    "quantidade = np.array([55, 66, 77, 88])\n",
    "\n",
    "print(valores * quantidade)\n",
    "print(np.dot(quantidade, valores)) # item a item + somatorio final"
   ]
  }
 ],
 "metadata": {
  "kernelspec": {
   "display_name": "Python 3",
   "language": "python",
   "name": "python3"
  },
  "language_info": {
   "codemirror_mode": {
    "name": "ipython",
    "version": 3
   },
   "file_extension": ".py",
   "mimetype": "text/x-python",
   "name": "python",
   "nbconvert_exporter": "python",
   "pygments_lexer": "ipython3",
   "version": "3.12.10"
  }
 },
 "nbformat": 4,
 "nbformat_minor": 5
}
