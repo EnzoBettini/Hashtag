{
 "cells": [
  {
   "cell_type": "code",
   "execution_count": null,
   "id": "5a3df0b3",
   "metadata": {},
   "outputs": [],
   "source": [
    "import numpy as np\n",
    "\n",
    "rng = np.random.default_rng(seed=42)\n",
    "salarios =  np.array([])\n",
    "salarios = rng.integers(low=1000, high=10000, size=14)\n",
    "print(salarios)\n",
    "\n",
    "salarios_reshape = np.reshape(salarios, (2, 7)) #da pra trocar o numero de uma dimensão por -1\n",
    "print(salarios_reshape)\n",
    "\n",
    "print(salarios_reshape.ndim)\n",
    "print(salarios_reshape.shape)\n",
    "print(salarios.ndim)\n",
    "print(salarios.shape)\n",
    "\n",
    "print(salarios_reshape.sum(axis=1)) #soma por eixo y (coluna)\n",
    "print(salarios_reshape.sum(axis=0)) #soma por eixo x (linha)"
   ]
  }
 ],
 "metadata": {
  "kernelspec": {
   "display_name": "Python 3",
   "language": "python",
   "name": "python3"
  },
  "language_info": {
   "codemirror_mode": {
    "name": "ipython",
    "version": 3
   },
   "file_extension": ".py",
   "mimetype": "text/x-python",
   "name": "python",
   "nbconvert_exporter": "python",
   "pygments_lexer": "ipython3",
   "version": "3.12.10"
  }
 },
 "nbformat": 4,
 "nbformat_minor": 5
}
