{
 "cells": [
  {
   "cell_type": "code",
   "execution_count": null,
   "id": "103b055f",
   "metadata": {},
   "outputs": [],
   "source": [
    "import numpy as np\n",
    "\n",
    "rng = np.random.default_rng(seed=42)\n",
    "salarios =  np.array([])\n",
    "salarios = rng.integers(low=1000, high=10000, size=10)\n",
    "print(salarios)\n",
    "\n",
    "media_salarial = np.mean(salarios)\n",
    "print(media_salarial)\n",
    "\n",
    "acima_da_media = np.where(salarios > media_salarial)\n",
    "print(acima_da_media)\n",
    "\n",
    "print(salarios[salarios > media_salarial])\n",
    "\n",
    "print(np.where(salarios > media_salarial, 'Acima da média', 'Abaixo da média'))"
   ]
  }
 ],
 "metadata": {
  "kernelspec": {
   "display_name": "Python 3",
   "language": "python",
   "name": "python3"
  },
  "language_info": {
   "codemirror_mode": {
    "name": "ipython",
    "version": 3
   },
   "file_extension": ".py",
   "mimetype": "text/x-python",
   "name": "python",
   "nbconvert_exporter": "python",
   "pygments_lexer": "ipython3",
   "version": "3.12.10"
  }
 },
 "nbformat": 4,
 "nbformat_minor": 5
}
