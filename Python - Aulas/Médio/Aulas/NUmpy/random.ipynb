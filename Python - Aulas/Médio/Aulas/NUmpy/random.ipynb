{
 "cells": [
  {
   "cell_type": "code",
   "execution_count": null,
   "id": "ebc3a007",
   "metadata": {},
   "outputs": [],
   "source": [
    "import numpy as np\n",
    "\n",
    "rng = np.random.default_rng()\n",
    "print(rng)"
   ]
  },
  {
   "cell_type": "code",
   "execution_count": null,
   "id": "763bd336",
   "metadata": {},
   "outputs": [],
   "source": [
    "numero_aleatorio = rng.random() * 10\n",
    "print(numero_aleatorio)"
   ]
  },
  {
   "cell_type": "code",
   "execution_count": null,
   "id": "6b5cb072",
   "metadata": {},
   "outputs": [],
   "source": [
    "rng = np.random.default_rng(seed=42)\n",
    "dados_vendas = rng.integers(low=50, high=200, size=30)\n",
    "print(dados_vendas)"
   ]
  },
  {
   "cell_type": "code",
   "execution_count": null,
   "id": "d41573d2",
   "metadata": {},
   "outputs": [],
   "source": [
    "print(np.argmax(dados_vendas) + 1)"
   ]
  },
  {
   "cell_type": "code",
   "execution_count": null,
   "id": "a8ad3530",
   "metadata": {},
   "outputs": [],
   "source": [
    "mediana = np.median(dados_vendas)\n",
    "print(mediana)\n",
    "\n",
    "percentual = np.percentile(dados_vendas, 50)\n",
    "print(percentual)\n",
    "\n",
    "desvio_padrao = np.std(dados_vendas)\n",
    "variancia = np.var(dados_vendas)"
   ]
  }
 ],
 "metadata": {
  "kernelspec": {
   "display_name": "Python 3",
   "language": "python",
   "name": "python3"
  },
  "language_info": {
   "codemirror_mode": {
    "name": "ipython",
    "version": 3
   },
   "file_extension": ".py",
   "mimetype": "text/x-python",
   "name": "python",
   "nbconvert_exporter": "python",
   "pygments_lexer": "ipython3",
   "version": "3.12.10"
  }
 },
 "nbformat": 4,
 "nbformat_minor": 5
}
