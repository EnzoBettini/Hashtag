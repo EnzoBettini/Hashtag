{
 "cells": [
  {
   "cell_type": "code",
   "execution_count": null,
   "id": "4ac73d85",
   "metadata": {},
   "outputs": [],
   "source": [
    "faturamento = {\n",
    "    'jan': 'R$ 95.141,98',\n",
    "    'fev': 'R$ 95.425,16',\n",
    "    'mar': 'R$ 89.716,31',\n",
    "    'abr': 'R$ 78.459,99',\n",
    "    'mai': 'R$ 71.087,28',\n",
    "    'jun': 'R$ 83.911,06',\n",
    "    'jul': 'R$ 56.467,26',\n",
    "    'ago': 'R$ 88.513,58',\n",
    "    'set': 'R$ 66.552,49',\n",
    "    'out': 'R$ 80.164,07',\n",
    "    'nov': 'R$ 66.964,33',\n",
    "    'dez': 'R$ 71.525,25',\n",
    "}\n",
    "\n",
    "def transformador_de_texto(lista):\n",
    "    for key in lista:\n",
    "        lista[key] = lista[key].replace('R$', '').strip()\n",
    "        lista[key] = lista[key].replace('.', '').strip()\n",
    "        lista[key] = lista[key].replace(',', '.').strip()\n",
    "    return lista\n",
    "\n",
    "def transformador_de_texto2(texto):\n",
    "    texto = texto.replace('R$', '').strip()\n",
    "    texto = texto.replace('.', '').strip()\n",
    "    texto = texto.replace(',', '.').strip()\n",
    "    return texto\n",
    "\n",
    "print(transformador_de_texto(faturamento))\n",
    "valores_formatados = list(map(transformador_de_texto2, faturamento.values()))\n",
    "print(valores_formatados)"
   ]
  },
  {
   "cell_type": "code",
   "execution_count": null,
   "id": "0c898015",
   "metadata": {},
   "outputs": [],
   "source": [
    "vendas_produtos = {'vinho': 100, 'cafeteira': 150, 'microondas': 300, 'iphone': 5500}\n",
    "\n",
    "def segundo_item(tupla):\n",
    "    return tupla[1]\n",
    "\n",
    "lista_vendas = list(vendas_produtos.items())\n",
    "lista_vendas.sort(key=segundo_item)\n",
    "print(lista_vendas)"
   ]
  }
 ],
 "metadata": {
  "kernelspec": {
   "display_name": "Python 3",
   "language": "python",
   "name": "python3"
  },
  "language_info": {
   "codemirror_mode": {
    "name": "ipython",
    "version": 3
   },
   "file_extension": ".py",
   "mimetype": "text/x-python",
   "name": "python",
   "nbconvert_exporter": "python",
   "pygments_lexer": "ipython3",
   "version": "3.12.10"
  }
 },
 "nbformat": 4,
 "nbformat_minor": 5
}
