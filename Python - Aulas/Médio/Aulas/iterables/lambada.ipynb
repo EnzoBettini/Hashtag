{
 "cells": [
  {
   "cell_type": "code",
   "execution_count": null,
   "id": "db0ca28b",
   "metadata": {},
   "outputs": [],
   "source": [
    "minha_funcao = lambda num: num * 2\n",
    "\n",
    "print(minha_funcao(5))"
   ]
  },
  {
   "cell_type": "code",
   "execution_count": null,
   "id": "6244ca86",
   "metadata": {},
   "outputs": [],
   "source": [
    "vendas_produtos = {'vinho': 100, 'cafeteira': 150, 'microondas': 300, 'iphone': 5500}\n",
    "\n",
    "preco_com_imposto = list(map(lambda preco: preco * 1.3, vendas_produtos.values()))\n",
    "\n",
    "print(preco_com_imposto)"
   ]
  }
 ],
 "metadata": {
  "kernelspec": {
   "display_name": "Python 3",
   "language": "python",
   "name": "python3"
  },
  "language_info": {
   "codemirror_mode": {
    "name": "ipython",
    "version": 3
   },
   "file_extension": ".py",
   "mimetype": "text/x-python",
   "name": "python",
   "nbconvert_exporter": "python",
   "pygments_lexer": "ipython3",
   "version": "3.12.10"
  }
 },
 "nbformat": 4,
 "nbformat_minor": 5
}
