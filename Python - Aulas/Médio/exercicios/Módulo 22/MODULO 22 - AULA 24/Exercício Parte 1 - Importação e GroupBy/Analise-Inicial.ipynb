{
 "cells": [
  {
   "cell_type": "markdown",
   "id": "993ee9ad",
   "metadata": {},
   "source": [
    "### Puxar base de dados"
   ]
  },
  {
   "cell_type": "code",
   "execution_count": null,
   "id": "90e92890",
   "metadata": {},
   "outputs": [],
   "source": [
    "import pandas as pd\n",
    "\n",
    "exportacoes_df = pd.read_csv('exportacoes_franca.csv')\n",
    "display(exportacoes_df)"
   ]
  },
  {
   "cell_type": "markdown",
   "id": "4ad76a65",
   "metadata": {},
   "source": [
    "### Informações Gerais\n",
    "\n",
    "Quantas linhas têm a tabela? Existe algum valor vazio que deveria ser tratado?"
   ]
  },
  {
   "cell_type": "code",
   "execution_count": null,
   "id": "cce34f4d",
   "metadata": {},
   "outputs": [],
   "source": [
    "exportacoes_df.info()"
   ]
  },
  {
   "cell_type": "markdown",
   "id": "2daa0fa9",
   "metadata": {},
   "source": [
    "### Como foi a evolução das exportações para a frança ao longo dos anos?\n",
    "\n",
    "Crie uma tabela com os anos de 2016, 2017, 2018, 2019 e 2020 e o valor US$ de exportações"
   ]
  },
  {
   "cell_type": "code",
   "execution_count": null,
   "id": "f02fb7d6",
   "metadata": {},
   "outputs": [],
   "source": [
    "anos_df = exportacoes_df.groupby('Year').sum(numeric_only=True)\n",
    "anos_df[\"US$ FOB\"] = anos_df[\"US$ FOB\"].apply(lambda x: f\"{x:,}\")\n",
    "display(anos_df)"
   ]
  },
  {
   "cell_type": "markdown",
   "id": "717e331d",
   "metadata": {},
   "source": [
    "### Quais os produtos mais exportados ao longo de todo o período?\n",
    "\n",
    "Queremos saber os produtos com maior valor US$ de exportação"
   ]
  },
  {
   "cell_type": "code",
   "execution_count": null,
   "id": "ba74c817",
   "metadata": {},
   "outputs": [],
   "source": [
    "exportacoes_df_valores = exportacoes_df[['SH2 Description','US$ FOB']].groupby('SH2 Description').sum()\n",
    "\n",
    "maior_valor = exportacoes_df_valores['US$ FOB'].idxmax()\n",
    "print(maior_valor)\n",
    "display(exportacoes_df_valores)"
   ]
  },
  {
   "cell_type": "markdown",
   "id": "6ce25d4d",
   "metadata": {},
   "source": [
    "### Em 2020 qual cidade mais exportou para a França?\n",
    "Em valores US$"
   ]
  },
  {
   "cell_type": "code",
   "execution_count": null,
   "id": "074fb7b8",
   "metadata": {},
   "outputs": [],
   "source": [
    "exportacoes_2020_df = exportacoes_df.loc[exportacoes_df['Year'] == 2020]\n",
    "exportacoes_df_cidades = exportacoes_2020_df[['City','US$ FOB']].groupby('City').sum().sort_values(by='US$ FOB', ascending=False)\n",
    "maior_valor = exportacoes_df_cidades['US$ FOB'].idxmax()\n",
    "print(maior_valor)\n",
    "display(exportacoes_df_cidades)"
   ]
  },
  {
   "cell_type": "markdown",
   "id": "84fbbcf3",
   "metadata": {},
   "source": [
    "### Quais os produtos mais exportados (em US$) que as 2 maiores cidades (em exportação em 2020) exportaram?"
   ]
  },
  {
   "cell_type": "code",
   "execution_count": null,
   "id": "12173e06",
   "metadata": {},
   "outputs": [],
   "source": [
    "for i in range(2):\n",
    "    cidade = exportacoes_df_cidades.index[i]\n",
    "\n",
    "    tabelas_cidades = exportacoes_2020_df.loc[exportacoes_df['City'] == cidade]\n",
    "    tabela_produtos_cidade = tabelas_cidades[['SH2 Description', 'US$ FOB']].groupby(\"SH2 Description\").sum().sort_values('US$ FOB', ascending=False)\n",
    "    display(tabela_produtos_cidade)"
   ]
  }
 ],
 "metadata": {
  "kernelspec": {
   "display_name": "Python 3",
   "language": "python",
   "name": "python3"
  },
  "language_info": {
   "codemirror_mode": {
    "name": "ipython",
    "version": 3
   },
   "file_extension": ".py",
   "mimetype": "text/x-python",
   "name": "python",
   "nbconvert_exporter": "python",
   "pygments_lexer": "ipython3",
   "version": "3.12.10"
  }
 },
 "nbformat": 4,
 "nbformat_minor": 5
}
