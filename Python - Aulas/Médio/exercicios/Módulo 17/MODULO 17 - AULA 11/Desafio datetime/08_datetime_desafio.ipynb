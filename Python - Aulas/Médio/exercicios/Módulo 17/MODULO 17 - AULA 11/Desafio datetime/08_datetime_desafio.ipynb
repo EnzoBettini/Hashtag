{
 "cells": [
  {
   "cell_type": "markdown",
   "metadata": {},
   "source": [
    "## Calculando a idade\n",
    "\n",
    "Um usuário fornece sua data de nascimento no formato \"dd/mm/aaaa\". Crie um script Python que calcula a idade do usuário.\n"
   ]
  },
  {
   "cell_type": "code",
   "execution_count": null,
   "metadata": {},
   "outputs": [],
   "source": [
    "from datetime import datetime\n",
    "import math\n",
    "\n",
    "while True:\n",
    "    try:\n",
    "        dia = int(input('Digite o dia do seu nacimento'))\n",
    "        mes = int(input('Digite o mes do seu nacimento'))\n",
    "        ano = int(input('Digite o ano do seu nacimento'))\n",
    "\n",
    "        data_nacimento = datetime(ano, mes, dia)\n",
    "        break\n",
    "    except ValueError:\n",
    "        print('❌ Data inválida. Tente novamente.\\n')\n",
    "\n",
    "hoje = datetime.now()\n",
    "\n",
    "dias_desde_nacimento = hoje - data_nacimento\n",
    "\n",
    "anos = dias_desde_nacimento.days / 365.25\n",
    "\n",
    "print(math.floor(anos))"
   ]
  }
 ],
 "metadata": {
  "kernelspec": {
   "display_name": "Python 3",
   "language": "python",
   "name": "python3"
  },
  "language_info": {
   "codemirror_mode": {
    "name": "ipython",
    "version": 3
   },
   "file_extension": ".py",
   "mimetype": "text/x-python",
   "name": "python",
   "nbconvert_exporter": "python",
   "pygments_lexer": "ipython3",
   "version": "3.12.10"
  }
 },
 "nbformat": 4,
 "nbformat_minor": 4
}
