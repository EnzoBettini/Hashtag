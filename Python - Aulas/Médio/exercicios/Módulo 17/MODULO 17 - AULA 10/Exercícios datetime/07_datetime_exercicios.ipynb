{
 "cells": [
  {
   "cell_type": "markdown",
   "metadata": {},
   "source": [
    "## Oferecendo desconto para cliente com base na última compra\n",
    "\n",
    "Suponha que você está trabalhando para uma empresa que deseja rastrear a atividade do cliente. Uma métrica que eles estão interessados é o tempo que passou desde a última transação do cliente. Se for muito tempo, eles podem oferecer um desconto para o cliente. Crie um script Python que mostra quanto tempo se passou desde a última compra do cliente. Se faz mais de 30 dias, mostre uma mensagem oferecendo um desconto para o cliente."
   ]
  },
  {
   "cell_type": "code",
   "execution_count": null,
   "metadata": {},
   "outputs": [],
   "source": [
    "from datetime import datetime\n",
    "\n",
    "hoje = datetime.now()\n",
    "\n",
    "while True:\n",
    "    try:\n",
    "        dia = int(input('Digite o dia da ultima compra do cliente'))\n",
    "        mes = int(input('Digite o mes da ultima compra do cliente'))\n",
    "        ano = int(input('Digite o ano da ultima compra do cliente'))\n",
    "\n",
    "        ultima_compra = datetime(ano, mes, dia)\n",
    "        break\n",
    "    except ValueError:\n",
    "        print('❌ Data inválida. Tente novamente.\\n')\n",
    "\n",
    "verificação_dias = hoje - ultima_compra\n",
    "\n",
    "if verificação_dias.days > 30:\n",
    "    print(f'Desconto não aprovado - Dias desde a última compra {verificação_dias.days}')\n",
    "else:\n",
    "    print('Desconto aprovado')"
   ]
  },
  {
   "cell_type": "markdown",
   "metadata": {},
   "source": [
    "## Data e hora em diferentes fusos horários\n",
    "\n",
    "Uma empresa tem escritórios em São Paulo, Nova York e Tóquio. Crie um script Python que mostra a data e hora atuais nesses três fusos horários. Exiba, também, se estes escritórios estão abertos ou fechados (9h às 17h).\n"
   ]
  },
  {
   "cell_type": "code",
   "execution_count": null,
   "metadata": {},
   "outputs": [],
   "source": [
    "from datetime import datetime\n",
    "from zoneinfo import ZoneInfo\n",
    "\n",
    "now_sp = datetime.now(ZoneInfo(\"America/Sao_Paulo\"))\n",
    "edt_time = datetime.now(ZoneInfo(\"America/New_York\"))\n",
    "jst_time = datetime.now(ZoneInfo(\"Asia/Tokyo\"))\n",
    "\n",
    "print(f'São Paulo - {now_sp.strftime(\"%H:%M:%S\")} - {\"Fechado\" if now_sp.hour >= 17 or now_sp.hour < 9 else \"Aberto\"}')\n",
    "print(f'New York  - {edt_time.strftime(\"%H:%M:%S\")} - {\"Fechado\" if edt_time.hour >= 17 or edt_time.hour < 9 else \"Aberto\"}')\n",
    "print(f'Tokyo     - {jst_time.strftime(\"%H:%M:%S\")} - {\"Fechado\" if jst_time.hour >= 17 or jst_time.hour < 9 else \"Aberto\"}')\n"
   ]
  }
 ],
 "metadata": {
  "kernelspec": {
   "display_name": "Python 3",
   "language": "python",
   "name": "python3"
  },
  "language_info": {
   "codemirror_mode": {
    "name": "ipython",
    "version": 3
   },
   "file_extension": ".py",
   "mimetype": "text/x-python",
   "name": "python",
   "nbconvert_exporter": "python",
   "pygments_lexer": "ipython3",
   "version": "3.12.10"
  }
 },
 "nbformat": 4,
 "nbformat_minor": 4
}
