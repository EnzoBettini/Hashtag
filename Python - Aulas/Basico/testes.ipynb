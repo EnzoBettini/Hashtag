{
 "cells": [
  {
   "cell_type": "code",
   "execution_count": null,
   "id": "92ad0c76",
   "metadata": {},
   "outputs": [],
   "source": [
    "print('Olá, mundo')"
   ]
  },
  {
   "cell_type": "code",
   "execution_count": null,
   "id": "1c471b67",
   "metadata": {},
   "outputs": [],
   "source": [
    "print('Meu nome é' + 'Enzo')\n",
    "\n",
    "print('Enzo' in 'Meu nome é enzo')"
   ]
  },
  {
   "cell_type": "code",
   "execution_count": null,
   "id": "4fed2339",
   "metadata": {},
   "outputs": [],
   "source": [
    "nome = input('Qual o seu nome?')\n",
    "\n",
    "print(f'seu nome é {nome}')"
   ]
  },
  {
   "cell_type": "code",
   "execution_count": null,
   "id": "2ed3493e",
   "metadata": {},
   "outputs": [],
   "source": [
    "print(type(1))\n",
    "print(type(2.0))\n",
    "print(type('ola'))\n",
    "print(type(True))\n",
    "print(type(\"a\"))\n",
    "\n",
    "str(1500) # tipagem"
   ]
  }
 ],
 "metadata": {
  "kernelspec": {
   "display_name": "Python 3",
   "language": "python",
   "name": "python3"
  },
  "language_info": {
   "codemirror_mode": {
    "name": "ipython",
    "version": 3
   },
   "file_extension": ".py",
   "mimetype": "text/x-python",
   "name": "python",
   "nbconvert_exporter": "python",
   "pygments_lexer": "ipython3",
   "version": "3.12.10"
  }
 },
 "nbformat": 4,
 "nbformat_minor": 5
}
