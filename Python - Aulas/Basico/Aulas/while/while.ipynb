{
 "cells": [
  {
   "cell_type": "code",
   "execution_count": null,
   "id": "7f3880b4",
   "metadata": {},
   "outputs": [],
   "source": [
    "vendas = []\n",
    "venda = input('Digite a quantidade de vendas: ')\n",
    "\n",
    "while venda == '':\n",
    "    venda = input('Digite a quantidade de vendas: ')"
   ]
  },
  {
   "cell_type": "code",
   "execution_count": null,
   "id": "4faa671f",
   "metadata": {},
   "outputs": [],
   "source": [
    "vendas = [941, 52, 783, 714, 697, 686, 685, 678, 631, 87, 47, 7]\n",
    "vendedores = ['Maria', 'José', 'Antonio', 'João', 'Francisco', 'Ana', 'Luiz', 'Paulo', 'Carlos', 'Manoel', 'Pedro', 'Francisca']\n",
    "meta = 50\n",
    "i = 0\n",
    "\n",
    "while vendas[i] > meta:\n",
    "    print('{} bateu a meta. Vendas: {}'.format(vendedores[i], vendas[i]))\n",
    "    i += 1"
   ]
  }
 ],
 "metadata": {
  "kernelspec": {
   "display_name": "Python 3",
   "language": "python",
   "name": "python3"
  },
  "language_info": {
   "codemirror_mode": {
    "name": "ipython",
    "version": 3
   },
   "file_extension": ".py",
   "mimetype": "text/x-python",
   "name": "python",
   "nbconvert_exporter": "python",
   "pygments_lexer": "ipython3",
   "version": "3.12.10"
  }
 },
 "nbformat": 4,
 "nbformat_minor": 5
}
