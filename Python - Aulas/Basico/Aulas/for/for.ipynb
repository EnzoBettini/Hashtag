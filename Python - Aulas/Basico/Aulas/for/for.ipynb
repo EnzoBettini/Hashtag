{
 "cells": [
  {
   "cell_type": "code",
   "execution_count": null,
   "id": "0e7bd56f",
   "metadata": {},
   "outputs": [],
   "source": [
    "for i in range(3):\n",
    "    print(i)"
   ]
  },
  {
   "cell_type": "code",
   "execution_count": null,
   "id": "b51a9c83",
   "metadata": {},
   "outputs": [],
   "source": [
    "produtos = ['coca', 'pepsi', 'guarana', 'sprite', 'fanta']\n",
    "producao = [15000, 12000, 13000, 5000, 250]\n",
    "\n",
    "for i in range(len(produtos)):\n",
    "    print(f'produto: {produtos[i]} produção: {producao[i]}\\n')"
   ]
  },
  {
   "cell_type": "code",
   "execution_count": null,
   "id": "241b60c1",
   "metadata": {},
   "outputs": [],
   "source": [
    "produtos = ['coca', 'pepsi', 'guarana', 'sprite', 'fanta']\n",
    "\n",
    "for item in produtos:\n",
    "    print(item)"
   ]
  },
  {
   "cell_type": "code",
   "execution_count": null,
   "id": "c9e273c6",
   "metadata": {},
   "outputs": [],
   "source": [
    "vendas = [1200, 300, 800, 1500, 1900, 2750, 400, 23, 70, 90, 80, 1100, 999, 900, 888, 870, 50, 1111, 120, 300, 450, 800]\n",
    "meta = 1000\n",
    "contador = 0\n",
    "nFunc = len(vendas)\n",
    "\n",
    "for item in vendas:\n",
    "    if item >= meta:\n",
    "        contador += 1\n",
    "\n",
    "print(f'a % de funcionarios que bateram a meta foi de {(contador / nFunc):.0%}')\n"
   ]
  }
 ],
 "metadata": {
  "kernelspec": {
   "display_name": "Python 3",
   "language": "python",
   "name": "python3"
  },
  "language_info": {
   "codemirror_mode": {
    "name": "ipython",
    "version": 3
   },
   "file_extension": ".py",
   "mimetype": "text/x-python",
   "name": "python",
   "nbconvert_exporter": "python",
   "pygments_lexer": "ipython3",
   "version": "3.12.10"
  }
 },
 "nbformat": 4,
 "nbformat_minor": 5
}
