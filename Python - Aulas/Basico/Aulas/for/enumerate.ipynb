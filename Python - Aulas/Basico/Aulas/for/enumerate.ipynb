{
 "cells": [
  {
   "cell_type": "code",
   "execution_count": null,
   "id": "5d65ab6d",
   "metadata": {},
   "outputs": [],
   "source": [
    "funcionarios = ['Maria', 'João', 'Antônio', 'Júlia', 'Francisco', 'Ana', 'Luiz', 'Paula', 'Carlos', 'Manoel', 'Pedro', 'Franca']\n",
    "\n",
    "for i, pessoa in enumerate(funcionarios):\n",
    "    print(f'{i} - {pessoa}')"
   ]
  }
 ],
 "metadata": {
  "kernelspec": {
   "display_name": "Python 3",
   "language": "python",
   "name": "python3"
  },
  "language_info": {
   "codemirror_mode": {
    "name": "ipython",
    "version": 3
   },
   "file_extension": ".py",
   "mimetype": "text/x-python",
   "name": "python",
   "nbconvert_exporter": "python",
   "pygments_lexer": "ipython3",
   "version": "3.12.10"
  }
 },
 "nbformat": 4,
 "nbformat_minor": 5
}
