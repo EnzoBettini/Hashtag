{
 "cells": [
  {
   "cell_type": "code",
   "execution_count": null,
   "id": "91c9be57",
   "metadata": {},
   "outputs": [],
   "source": [
    "vendas = [100, 299, 300, 120, 5000,50]\n",
    "\n",
    "meta = 110\n",
    "\n",
    "for venda in vendas:\n",
    "    if venda < meta:\n",
    "        print('A loja nao vai ganhar bonus')\n",
    "        break"
   ]
  },
  {
   "cell_type": "code",
   "execution_count": null,
   "id": "699569dc",
   "metadata": {},
   "outputs": [],
   "source": [
    "vendas = [100, 299, 300, 120, 5000,50]\n",
    "\n",
    "meta = 110\n",
    "\n",
    "for venda in vendas:\n",
    "    if venda < meta:\n",
    "        continue\n",
    "    print(venda)"
   ]
  }
 ],
 "metadata": {
  "kernelspec": {
   "display_name": "Python 3",
   "language": "python",
   "name": "python3"
  },
  "language_info": {
   "codemirror_mode": {
    "name": "ipython",
    "version": 3
   },
   "file_extension": ".py",
   "mimetype": "text/x-python",
   "name": "python",
   "nbconvert_exporter": "python",
   "pygments_lexer": "ipython3",
   "version": "3.12.10"
  }
 },
 "nbformat": 4,
 "nbformat_minor": 5
}
