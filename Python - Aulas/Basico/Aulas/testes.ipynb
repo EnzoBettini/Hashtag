{
 "cells": [
  {
   "cell_type": "code",
   "execution_count": null,
   "id": "92ad0c76",
   "metadata": {},
   "outputs": [],
   "source": [
    "print('Olá, mundo')"
   ]
  },
  {
   "cell_type": "code",
   "execution_count": null,
   "id": "1c471b67",
   "metadata": {},
   "outputs": [],
   "source": [
    "print('Meu nome é' + 'Enzo')\n",
    "\n",
    "print('Enzo' in 'Meu nome é enzo')"
   ]
  },
  {
   "cell_type": "code",
   "execution_count": null,
   "id": "4fed2339",
   "metadata": {},
   "outputs": [],
   "source": [
    "nome = input('Qual o seu nome?')\n",
    "\n",
    "print(f'seu nome é {nome}')"
   ]
  },
  {
   "cell_type": "code",
   "execution_count": null,
   "id": "2ed3493e",
   "metadata": {},
   "outputs": [],
   "source": [
    "print(type(1))\n",
    "print(type(2.0))\n",
    "print(type('ola'))\n",
    "print(type(True))\n",
    "print(type(\"a\"))\n",
    "\n",
    "str(1500) # tipagem"
   ]
  },
  {
   "cell_type": "code",
   "execution_count": null,
   "id": "d939994f",
   "metadata": {},
   "outputs": [],
   "source": [
    "texto = 'Qual o tamnho disto?'\n",
    "\n",
    "tamanhoDoTexto = len(texto)\n",
    "\n",
    "print(tamanhoDoTexto)\n",
    "\n",
    "caracterDoTexto = texto[1]\n",
    "\n",
    "print(caracterDoTexto)\n",
    "\n",
    "print(texto[-1])\n",
    "print(texto[:-1]) #texto ate o indice -1\n",
    "print(texto[4:10]) #tdo indice 4 ao 10"
   ]
  },
  {
   "cell_type": "code",
   "execution_count": null,
   "id": "1641d9e6",
   "metadata": {},
   "outputs": [],
   "source": [
    "faturamento = 1000\n",
    "texto = 'o faturaMENTO foi de {}      '\n",
    "print(texto.format(faturamento))\n",
    "print(texto.capitalize())\n",
    "print(texto.casefold())\n",
    "print(texto.count('MENTO'))\n",
    "print(texto.endswith('MENTO'))\n",
    "print(texto.find('foi'))\n",
    "print(texto.isalnum())\n",
    "print(texto.isalpha())\n",
    "print(texto.isnumeric())\n",
    "print(texto.replace('MENTO', 'MENTOSS'))\n",
    "print(texto.split('foi'))\n",
    "print(texto.title())\n",
    "print(texto.upper())\n",
    "print(texto.splitlines())\n",
    "print(texto.startswith('o faturaMENTO'))\n",
    "print(texto.strip())"
   ]
  },
  {
   "cell_type": "markdown",
   "id": "8dc6ad56",
   "metadata": {},
   "source": [
    "---\n",
    "| Tipo de Formatação      | Sintaxe Comum              | Exemplo de Uso                                          | Saída Esperada                      |\n",
    "|:------------------------|:---------------------------|:--------------------------------------------------------|:------------------------------------|\n",
    "| **Posicional** | `{}` ou `{índice}`         | `\"{}, {} anos\".format(\"João\", 30)`                      | `João, 30 anos`                     |\n",
    "| **Por Nome/Chave** | `{nome_parametro}`         | `\"Nome: {n}, Idade: {i}\".format(n=\"Ana\", i=25)`         | `Nome: Ana, Idade: 25`              |\n",
    "| **Casas Decimais** | `:.Nf`                     | `\"Preço: {:.2f}\".format(123.456)`                       | `Preço: 123.46`                     |\n",
    "| **Separador Milhares** | `:,`                       | `\"População: {:,}\".format(78912345)`                    | `População: 78,912,345`             |\n",
    "| **Porcentagem** | `:.N%`                     | `\"Concluído: {:.1%}\".format(0.75)`                      | `Concluído: 75.0%`                  |\n",
    "| **Alinhar Esquerda** | `:<largura`                | `\"{:<10}\".format(\"Oi\")`                                 | `'Oi        '`                      |\n",
    "| **Alinhar Direita** | `:>largura`                | `\"{:>10}\".format(\"Tchau\")`                              | `'     Tchau'`                     |\n",
    "| **Centralizar** | `:^largura`                | `\"{:^10}\".format(\"Centro\")`                             | `'  Centro  '`                      |\n",
    "| **Preenchimento** | `:caractere_alin_largura`  | `\"{:*^10}\".format(\"Py\")`                                | `'****Py****'`                      |\n",
    "| **Sinal Numérico** | `:+` ou `:-`               | `\"{:+}\".format(5)` / `\"{:-}\".format(-3)`                | `+5` / `-3`                         |\n",
    "| **Binário** | `:b`                       | `\"{:b}\".format(10)`                                     | `1010`                              |\n",
    "| **Hexadecimal** | `:x`                       | `\"{:x}\".format(255)`                                    | `ff`                                |\n",
    "| **Notação Científica** | `:e`                       | `\"{:e}\".format(12345.67)`                               | `1.234567e+04`                      |\n",
    "---"
   ]
  },
  {
   "cell_type": "code",
   "execution_count": null,
   "id": "7604613f",
   "metadata": {},
   "outputs": [],
   "source": [
    "precos = 'jan: 25, fev: 26, mar: 28'\n",
    "\n",
    "precoJan = precos[5:7]\n",
    "precoMar = precos[-2:]\n",
    "precoFev = precos[-11:-9]\n",
    "strInv = precos[::-1]\n",
    "print(precoJan)\n",
    "print(precoMar)\n",
    "print(precoFev)\n",
    "print(strInv)"
   ]
  }
 ],
 "metadata": {
  "kernelspec": {
   "display_name": "Python 3",
   "language": "python",
   "name": "python3"
  },
  "language_info": {
   "codemirror_mode": {
    "name": "ipython",
    "version": 3
   },
   "file_extension": ".py",
   "mimetype": "text/x-python",
   "name": "python",
   "nbconvert_exporter": "python",
   "pygments_lexer": "ipython3",
   "version": "3.12.10"
  }
 },
 "nbformat": 4,
 "nbformat_minor": 5
}
