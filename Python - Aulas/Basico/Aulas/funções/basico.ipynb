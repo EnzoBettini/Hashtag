{
 "cells": [
  {
   "cell_type": "code",
   "execution_count": null,
   "id": "ce05b75a",
   "metadata": {},
   "outputs": [],
   "source": [
    "def cadastrarProduto():\n",
    "    produto = input('Digite o produto a ser cadastrado')\n",
    "    print(produto)\n",
    "cadastrarProduto()\n",
    "\n",
    "def cadastrarProduto2():\n",
    "    produto = input('Digite o produto a ser cadastrado')\n",
    "    produto = produto.casefold()\n",
    "    produto = produto.strip()\n",
    "    return produto\n",
    "nomeCadastrado = cadastrarProduto2()\n",
    "print(nomeCadastrado)\n",
    "\n",
    "def calculadora(n1, n2):\n",
    "    return n1 + n2\n",
    "print(calculadora(3, 2))"
   ]
  },
  {
   "cell_type": "code",
   "execution_count": null,
   "id": "4a059019",
   "metadata": {},
   "outputs": [],
   "source": [
    "def padrinizar(lista, padrao = 'm'):\n",
    "    for i, item in enumerate(lista):\n",
    "        item = item.replace('  ', ' ')\n",
    "        item = item.strip()\n",
    "        if padrao == 'm':\n",
    "            item = item.casefold()\n",
    "        elif padrao == 'M':\n",
    "            item = item.upper()\n",
    "        lista[i] = item\n",
    "    return lista"
   ]
  },
  {
   "cell_type": "code",
   "execution_count": null,
   "id": "09c921bc",
   "metadata": {},
   "outputs": [],
   "source": [
    "def operacoes_basicas(num1, num2):\n",
    "    soma = num1 + num2\n",
    "    diferenca = num1 - num2\n",
    "    mult = num1 * num2\n",
    "    divisao = num1 / num2\n",
    "    return (soma, diferenca, mult, divisao)"
   ]
  }
 ],
 "metadata": {
  "kernelspec": {
   "display_name": "Python 3",
   "language": "python",
   "name": "python3"
  },
  "language_info": {
   "codemirror_mode": {
    "name": "ipython",
    "version": 3
   },
   "file_extension": ".py",
   "mimetype": "text/x-python",
   "name": "python",
   "nbconvert_exporter": "python",
   "pygments_lexer": "ipython3",
   "version": "3.12.10"
  }
 },
 "nbformat": 4,
 "nbformat_minor": 5
}
