{
 "cells": [
  {
   "cell_type": "code",
   "execution_count": null,
   "id": "ce05b75a",
   "metadata": {},
   "outputs": [],
   "source": [
    "def cadastrarProduto():\n",
    "    produto = input('Digite o produto a ser cadastrado')\n",
    "    print(produto)\n",
    "\n",
    "\n",
    "cadastrarProduto()"
   ]
  }
 ],
 "metadata": {
  "language_info": {
   "name": "python"
  }
 },
 "nbformat": 4,
 "nbformat_minor": 5
}
