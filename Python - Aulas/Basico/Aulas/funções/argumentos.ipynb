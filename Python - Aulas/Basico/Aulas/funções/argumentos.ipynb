{
 "cells": [
  {
   "cell_type": "code",
   "execution_count": null,
   "id": "a1d86d20",
   "metadata": {},
   "outputs": [],
   "source": [
    "def mostrar_tudo(*args):\n",
    "    soma = 0\n",
    "    for arg in args:\n",
    "        soma += arg\n",
    "    return soma\n",
    "\n",
    "print(mostrar_tudo(1,2,3,4,5,6,7,8,9))\n",
    "\n",
    "def preco_final(preco, **adicionais):\n",
    "    print(adicionais)\n",
    "    if 'desconto' in adicionais:\n",
    "        preco *= (1 - adicionais['desconto'])\n",
    "    if 'garantia_extra' in adicionais:\n",
    "        preco += adicionais['garantia_extra']\n",
    "    if 'imposto' in adicionais:\n",
    "        preco *= (1 + adicionais['imposto'])\n",
    "    return preco\n",
    "\n",
    "print(preco_final(1000, desconto = 0.1, garantia_extra = 100))\n",
    "\n",
    "#existe ordem de argumentos, caso queira ver -> Modulo 14 aula 17"
   ]
  }
 ],
 "metadata": {
  "kernelspec": {
   "display_name": "Python 3",
   "language": "python",
   "name": "python3"
  },
  "language_info": {
   "codemirror_mode": {
    "name": "ipython",
    "version": 3
   },
   "file_extension": ".py",
   "mimetype": "text/x-python",
   "name": "python",
   "nbconvert_exporter": "python",
   "pygments_lexer": "ipython3",
   "version": "3.12.10"
  }
 },
 "nbformat": 4,
 "nbformat_minor": 5
}
