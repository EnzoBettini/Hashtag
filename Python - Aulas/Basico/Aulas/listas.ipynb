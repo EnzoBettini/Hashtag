{
 "cells": [
  {
   "cell_type": "code",
   "execution_count": null,
   "id": "af93cdb3",
   "metadata": {},
   "outputs": [],
   "source": [
    "lista = ['a', 'b', 'c']\n",
    "\n",
    "tam = len(lista)"
   ]
  },
  {
   "cell_type": "code",
   "execution_count": null,
   "id": "51c155fc",
   "metadata": {},
   "outputs": [],
   "source": [
    "produto = input('Digite o produto')\n",
    "\n",
    "if produto in lista:\n",
    "    indice = lista.index(produto)\n",
    "    print(indice)\n",
    "else:\n",
    "    print(f'produto {produto} não encontrado')"
   ]
  },
  {
   "cell_type": "code",
   "execution_count": null,
   "id": "b3e14211",
   "metadata": {},
   "outputs": [],
   "source": [
    "lista.append('d')\n",
    "lista.append('zzz')\n",
    "try:\n",
    "    print(lista)\n",
    "    lista.remove('zzz')\n",
    "    lista.pop(1)\n",
    "    print(lista)\n",
    "except:\n",
    "    print('nenhum item na lista')"
   ]
  },
  {
   "cell_type": "code",
   "execution_count": null,
   "id": "c7c3e78c",
   "metadata": {},
   "outputs": [],
   "source": [
    "vendas = ['10', '20', '30', '40', '50']\n",
    "\n",
    "maxValue = max(vendas)\n",
    "minValue = min(vendas)\n",
    "\n",
    "indexSales = vendas.index(maxValue)\n",
    "print(indexSales)\n",
    "\n",
    "print(maxValue)\n",
    "print(minValue)"
   ]
  },
  {
   "cell_type": "code",
   "execution_count": null,
   "id": "7973379f",
   "metadata": {},
   "outputs": [],
   "source": [
    "lista1 = ['sdasd', 'dadudududu']\n",
    "lista2 = ['KLSDJ', 'CHUPSD']\n",
    "\n",
    "lista3 = lista1 + lista2\n",
    "lista1.extend(lista2)\n",
    "\n",
    "print(lista1)\n",
    "print(lista3)\n",
    "\n",
    "lista3.sort(reverse = False) #ordem alfabetica\n",
    "\n",
    "print('\\n'.join(lista3))\n"
   ]
  },
  {
   "cell_type": "code",
   "execution_count": null,
   "id": "5726f8ff",
   "metadata": {},
   "outputs": [],
   "source": [
    "teste = 'Eu, vou, virar, uma, lista'\n",
    "\n",
    "listaSplitada = teste.split(',')\n",
    "\n",
    "print(listaSplitada)"
   ]
  },
  {
   "cell_type": "code",
   "execution_count": null,
   "id": "d4447361",
   "metadata": {},
   "outputs": [],
   "source": [
    "lista = ['a', 'b', 'c']\n",
    "\n",
    "lista2 = lista # estamos apenas apontando\n",
    "\n",
    "lista3 = lista[:] #copia"
   ]
  },
  {
   "cell_type": "code",
   "execution_count": null,
   "id": "d3fbc93c",
   "metadata": {},
   "outputs": [],
   "source": []
  }
 ],
 "metadata": {
  "kernelspec": {
   "display_name": "Python 3",
   "language": "python",
   "name": "python3"
  },
  "language_info": {
   "codemirror_mode": {
    "name": "ipython",
    "version": 3
   },
   "file_extension": ".py",
   "mimetype": "text/x-python",
   "name": "python",
   "nbconvert_exporter": "python",
   "pygments_lexer": "ipython3",
   "version": "3.12.10"
  }
 },
 "nbformat": 4,
 "nbformat_minor": 5
}
