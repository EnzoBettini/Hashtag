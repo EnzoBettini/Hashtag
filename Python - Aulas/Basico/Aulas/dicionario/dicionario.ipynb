{
 "cells": [
  {
   "cell_type": "code",
   "execution_count": null,
   "id": "f99ad3c7",
   "metadata": {},
   "outputs": [],
   "source": [
    "mais_vendidos = {'tecnologia': 'placa de video', 'livros': 'biblia'}\n",
    "\n",
    "produto_tec = mais_vendidos['tecnologia']\n",
    "\n",
    "print(f'produto mais vendido tecnologico é : {produto_tec}')\n",
    "\n",
    "print(mais_vendidos.get('tecnologia'))"
   ]
  },
  {
   "cell_type": "code",
   "execution_count": null,
   "id": "fe94ae7f",
   "metadata": {},
   "outputs": [],
   "source": [
    "dicionario = {}\n",
    "\n",
    "dicionario['comida'] = 'pastel'\n",
    "\n",
    "dicionario.update({'bebida': 'coca', 'doce': 'arroz doce'})\n",
    "\n",
    "print(dicionario)\n",
    "\n",
    "dicionario.pop('comida')\n",
    "del dicionario['doce']\n",
    "print(dicionario)"
   ]
  }
 ],
 "metadata": {
  "kernelspec": {
   "display_name": "Python 3",
   "language": "python",
   "name": "python3"
  },
  "language_info": {
   "codemirror_mode": {
    "name": "ipython",
    "version": 3
   },
   "file_extension": ".py",
   "mimetype": "text/x-python",
   "name": "python",
   "nbconvert_exporter": "python",
   "pygments_lexer": "ipython3",
   "version": "3.12.10"
  }
 },
 "nbformat": 4,
 "nbformat_minor": 5
}
