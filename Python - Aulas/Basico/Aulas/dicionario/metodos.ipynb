{
 "cells": [
  {
   "cell_type": "code",
   "execution_count": null,
   "id": "784013bd",
   "metadata": {},
   "outputs": [],
   "source": [
    "vendas_tecnologia = {'iphone': 15000, 'samsung galaxy': 12000, 'tv samsung': 10000, 'ps5': 14300, 'tablet': 1700, 'ipad': 100}\n",
    "\n",
    "itens_dicionario = vendas_tecnologia.items()\n",
    "\n",
    "for item, valor in itens_dicionario:\n",
    "    print(f'Nome: {item} - valor: {valor}')"
   ]
  },
  {
   "cell_type": "code",
   "execution_count": null,
   "id": "2768b153",
   "metadata": {},
   "outputs": [],
   "source": [
    "produtos = ['iphone', 'samsung galaxy', 'tv samsung', 'ps5', 'tablet', 'ipad', 'tv philco', 'notebook hp', 'notebook dell']\n",
    "vendas = [15000, 12000, 10000, 14300, 1720, 1800, 2500, 18000, 2450]\n",
    "\n",
    "dicionario = dict.fromkeys(produtos, 0)\n",
    "\n",
    "print(dicionario)\n",
    "\n",
    "lista_tuplas = zip(produtos, vendas)\n",
    "\n",
    "dicionario2 = dict(lista_tuplas)\n",
    "\n",
    "print(dicionario2)\n",
    "print(f'vendemos {dicionario2['ipad']} ipads')"
   ]
  }
 ],
 "metadata": {
  "kernelspec": {
   "display_name": "Python 3",
   "language": "python",
   "name": "python3"
  },
  "language_info": {
   "codemirror_mode": {
    "name": "ipython",
    "version": 3
   },
   "file_extension": ".py",
   "mimetype": "text/x-python",
   "name": "python",
   "nbconvert_exporter": "python",
   "pygments_lexer": "ipython3",
   "version": "3.12.10"
  }
 },
 "nbformat": 4,
 "nbformat_minor": 5
}
