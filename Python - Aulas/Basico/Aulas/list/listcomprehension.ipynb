{
 "cells": [
  {
   "cell_type": "code",
   "execution_count": null,
   "id": "828ba5f2",
   "metadata": {},
   "outputs": [],
   "source": [
    "preco_produtos = [100, 150, 300, 5500]\n",
    "produtos = ['vinho', 'cafeteira', 'microondas', 'iphone']\n",
    "\n",
    "impostos = [preco * 0.3 for preco in preco_produtos]\n",
    "\n",
    "print(impostos)"
   ]
  },
  {
   "cell_type": "code",
   "execution_count": null,
   "id": "ef159672",
   "metadata": {},
   "outputs": [],
   "source": [
    "preco_produtos = [100, 150, 300, 5500]\n",
    "produtos = ['vinho', 'cafeteira', 'microondas', 'iphone']\n",
    "\n",
    "lista_aux = list(zip(preco_produtos, produtos))\n",
    "lista_aux.sort(reverse=True)\n",
    "print(lista_aux)"
   ]
  },
  {
   "cell_type": "code",
   "execution_count": null,
   "id": "1fc2fd67",
   "metadata": {},
   "outputs": [],
   "source": [
    "vendas_produtos = [('iphone', 558147, 951642), ('galaxy', 712350, 244295), ('ipad', 573823, 26964), ('tv', 405252, 787604), ('máquina de café', 718654, 867660), ('kindle', 531580, 78830), ('geladeira', 973139, 710331), ('adega', 892292, 646016), ('notebook dell', 422760, 694913), ('notebook hp', 154753, 539704), ('notebook asus', 887061, 324831), ('microsoft surface', 438508, 667179), ('webcam', 237467, 295633), ('caixa de som', 489705, 725316), ('microfone', 328311, 644622), ('câmera canon', 591120, 994303)]\n",
    "meta = 570000\n",
    "bateram_meta = [(nome) for nome, vendas_2019, vendas_2020 in vendas_produtos if vendas_2019 > meta]\n",
    "\n",
    "print(bateram_meta)"
   ]
  },
  {
   "cell_type": "code",
   "execution_count": null,
   "id": "f13b5090",
   "metadata": {},
   "outputs": [],
   "source": [
    "vendedores_dic = {'Maria': 1200, 'José': 900, 'Antônio': 800, 'João': 1500, 'Francisco': 1900, 'Ana': 2750, 'Luiz': 400, 'Paulo': 1100, 'Carlos': 700, 'Manoel': 1300, 'Pedro': 1600, 'Marcos': 1000, 'Raimundo': 600, 'Sebastião': 1400, 'Antônia': 2000, 'Francisca': 1800, 'Fernanda': 2200, 'Patrícia': 2500, 'Aline': 950}\n",
    "meta = 1000\n",
    "\n",
    "bonus_vendedores = [(vendedores_dic[item] * 1.1) if vendedores_dic[item] >= meta else vendedores_dic[item] for item in vendedores_dic]\n",
    "\n",
    "print(bonus_vendedores)\n"
   ]
  }
 ],
 "metadata": {
  "kernelspec": {
   "display_name": "Python 3",
   "language": "python",
   "name": "python3"
  },
  "language_info": {
   "codemirror_mode": {
    "name": "ipython",
    "version": 3
   },
   "file_extension": ".py",
   "mimetype": "text/x-python",
   "name": "python",
   "nbconvert_exporter": "python",
   "pygments_lexer": "ipython3",
   "version": "3.12.10"
  }
 },
 "nbformat": 4,
 "nbformat_minor": 5
}
