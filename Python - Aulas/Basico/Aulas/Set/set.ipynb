{
 "cells": [
  {
   "cell_type": "code",
   "execution_count": null,
   "id": "f983139e",
   "metadata": {},
   "outputs": [],
   "source": [
    "set_produtos = {'arroz', 'feijão', 'carne', 'frango'}\n",
    "\n",
    "print(set_produtos)"
   ]
  }
 ],
 "metadata": {
  "kernelspec": {
   "display_name": "Python 3",
   "language": "python",
   "name": "python3"
  },
  "language_info": {
   "codemirror_mode": {
    "name": "ipython",
    "version": 3
   },
   "file_extension": ".py",
   "mimetype": "text/x-python",
   "name": "python",
   "nbconvert_exporter": "python",
   "pygments_lexer": "ipython3",
   "version": "3.12.10"
  }
 },
 "nbformat": 4,
 "nbformat_minor": 5
}
