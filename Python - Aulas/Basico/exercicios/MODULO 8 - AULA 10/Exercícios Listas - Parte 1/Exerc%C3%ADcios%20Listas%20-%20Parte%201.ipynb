{
 "cells": [
  {
   "cell_type": "markdown",
   "metadata": {},
   "source": [
    "# Exercícios\n",
    "\n",
    "## 1. Faturamento do Melhor e do Pior Mês do Ano\n",
    "\n",
    "Qual foi o valor de vendas do melhor mês do Ano?\n",
    "E valor do pior mês do ano?"
   ]
  },
  {
   "cell_type": "code",
   "execution_count": 2,
   "metadata": {},
   "outputs": [],
   "source": [
    "meses = ['jan', 'fev', 'mar', 'abr', 'mai', 'jun', 'jul', 'ago', 'set', 'out', 'nov', 'dez']\n",
    "vendas_1sem = [25000, 29000, 22200, 17750, 15870, 19900]\n",
    "vendas_2sem = [19850, 20120, 17540, 15555, 49051, 9650]\n",
    "\n",
    "totalValues = vendas_1sem + vendas_2sem\n",
    "\n",
    "maxSales = max(totalValues)\n",
    "minSales = min(totalValues)\n",
    "\n",
    "maxIndex = totalValues.index(maxSales)\n",
    "minIndex = totalValues.index(minSales)\n",
    "\n",
    "bestMonth = meses[maxIndex]\n",
    "worstMonth = meses[minIndex]"
   ]
  },
  {
   "cell_type": "markdown",
   "metadata": {},
   "source": [
    "## 2. Continuação\n",
    "\n",
    "Agora relacione as duas listas para printar 'O melhor mês do ano foi {} com {} vendas' e o mesmo para o pior mês do ano.\n",
    "\n",
    "Calcule também o faturamento total do Ano e quanto que o melhor mês representou do faturamento total.\n",
    "\n",
    "Obs: Para o faturamento total, pode usar a função sum(lista) que soma todos os itens de uma lista"
   ]
  },
  {
   "cell_type": "code",
   "execution_count": 4,
   "metadata": {},
   "outputs": [
    {
     "name": "stdout",
     "output_type": "stream",
     "text": [
      "O melhor mes foi nov com 49051 vendas\n",
      "O melhor mes foi dez com 9650 vendas\n",
      "o faturamento foi 261486\n"
     ]
    }
   ],
   "source": [
    "print(f'O melhor mes foi {bestMonth} com {maxSales} vendas')\n",
    "print(f'O melhor mes foi {worstMonth} com {minSales} vendas')\n",
    "\n",
    "faturamento = sum(totalValues)\n",
    "\n",
    "print('o faturamento foi {}'.format(faturamento))"
   ]
  },
  {
   "cell_type": "markdown",
   "metadata": {},
   "source": [
    "## 3. Crie uma lista com o top 3 valores de vendas do ano (sem fazer \"no olho\")\n",
    "\n",
    "Dica: o método remove retira um item da lista."
   ]
  },
  {
   "cell_type": "code",
   "execution_count": 5,
   "metadata": {},
   "outputs": [
    {
     "name": "stdout",
     "output_type": "stream",
     "text": [
      "os melhores faturamentos foram [49051, 29000, 25000]\n"
     ]
    }
   ],
   "source": [
    "top3 = []\n",
    "top3.append(maxSales)\n",
    "totalValues.remove(maxSales)\n",
    "maxSales = max(totalValues)\n",
    "top3.append(maxSales)\n",
    "totalValues.remove(maxSales)\n",
    "maxSales = max(totalValues)\n",
    "top3.append(maxSales)\n",
    "\n",
    "print(f'os melhores faturamentos foram {top3}')\n",
    "\n"
   ]
  }
 ],
 "metadata": {
  "kernelspec": {
   "display_name": "Python 3",
   "language": "python",
   "name": "python3"
  },
  "language_info": {
   "codemirror_mode": {
    "name": "ipython",
    "version": 3
   },
   "file_extension": ".py",
   "mimetype": "text/x-python",
   "name": "python",
   "nbconvert_exporter": "python",
   "pygments_lexer": "ipython3",
   "version": "3.12.10"
  }
 },
 "nbformat": 4,
 "nbformat_minor": 4
}
