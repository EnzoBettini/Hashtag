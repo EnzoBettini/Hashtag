{
 "cells": [
  {
   "cell_type": "markdown",
   "id": "2b04bbea",
   "metadata": {},
   "source": [
    "# Strings\n",
    "\n",
    "<span style=\"color: red;\"><b>Todos os exercícios são feitos partindo-se do pressuposto de que todas as entradas são dadas de forma correta. Casos limite não mencionados no enunciado não são abordados porque não fazem parte do exercício.</b></span>"
   ]
  },
  {
   "cell_type": "markdown",
   "id": "5b1f33b9",
   "metadata": {},
   "source": [
    "#### 1. Tamanho de strings. Faça um programa que leia 2 strings e informe o conteúdo delas seguido do seu comprimento. Informe também se as duas strings possuem o mesmo comprimento e são iguais ou diferentes no conteúdo.\n",
    "<pre>\n",
    "Compara duas strings\n",
    "String 1: Brasil Hexa 2006\n",
    "String 2: Brasil! Hexa 2006!\n",
    "Tamanho de \"Brasil Hexa 2006\": 16 caracteres\n",
    "Tamanho de \"Brasil! Hexa 2006!\": 18 caracteres\n",
    "As duas strings são de tamanhos diferentes.\n",
    "As duas strings possuem conteúdo diferente.\n",
    "</pre>"
   ]
  },
  {
   "cell_type": "code",
   "execution_count": null,
   "id": "8f5a6bad",
   "metadata": {},
   "outputs": [],
   "source": []
  },
  {
   "cell_type": "code",
   "execution_count": null,
   "id": "c492b657",
   "metadata": {},
   "outputs": [],
   "source": [
    "str1 = input('String 1')\n",
    "str2 = input('String 2')\n",
    "\n",
    "print(f'{str1} tamanho = {len(str1)}')\n",
    "print(f'{str2} tamanho = {len(str2)}')\n",
    "\n",
    "if len(str1) != len(str2):\n",
    "    print('Strings de tam diferentes')\n",
    "if str1 == str2:\n",
    "    print('As strings possuem conteudo indenticos')\n",
    "else:\n",
    "    print('As strings possuem conteudo diferentes')"
   ]
  },
  {
   "cell_type": "markdown",
   "id": "c3068a53",
   "metadata": {},
   "source": [
    "#### 2. Valida e corrige número de telefone. Faça um programa que leia um número de telefone, e corrija o número no caso deste conter somente 7 dígitos, acrescentando o '3' na frente. O usuário pode informar o número com ou sem o traço separador.\n",
    "<pre>\n",
    "Valida e corrige número de telefone\n",
    "Telefone: 461-0133\n",
    "Telefone possui 7 dígitos. Vou acrescentar o digito três na frente.\n",
    "Telefone corrigido sem formatação: 34610133\n",
    "Telefone corrigido com formatação: 3461-0133\n",
    "</pre>"
   ]
  },
  {
   "cell_type": "code",
   "execution_count": 10,
   "id": "0308566d",
   "metadata": {},
   "outputs": [
    {
     "name": "stdout",
     "output_type": "stream",
     "text": [
      "3028778\n",
      "telefone com 7 digitos vou adicionar o 3\n",
      "telefone corrigido sem formatação 3302-8778\n"
     ]
    }
   ],
   "source": [
    "telefone = input('Digite seu telefone')\n",
    "\n",
    "print(telefone)\n",
    "\n",
    "if len(telefone) == 7 and telefone.find('-') == -1:\n",
    "    print('telefone com 7 digitos vou adicionar o 3')\n",
    "    print('telefone corrigido sem formatação 3' + telefone[0:3] + '-' + telefone[3:])\n",
    "elif len(telefone) == 8 and telefone.find('-') != -1:\n",
    "    print('telefone com 7 digitos vou adicionar o 3')\n",
    "    print('telefone corrigido sem formatação 3' + telefone)\n"
   ]
  },
  {
   "cell_type": "code",
   "execution_count": null,
   "id": "1932efe7",
   "metadata": {},
   "outputs": [],
   "source": []
  }
 ],
 "metadata": {
  "kernelspec": {
   "display_name": "Python 3",
   "language": "python",
   "name": "python3"
  },
  "language_info": {
   "codemirror_mode": {
    "name": "ipython",
    "version": 3
   },
   "file_extension": ".py",
   "mimetype": "text/x-python",
   "name": "python",
   "nbconvert_exporter": "python",
   "pygments_lexer": "ipython3",
   "version": "3.12.10"
  }
 },
 "nbformat": 4,
 "nbformat_minor": 5
}
